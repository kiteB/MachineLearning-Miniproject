{
 "cells": [
  {
   "cell_type": "code",
   "execution_count": 1,
   "metadata": {},
   "outputs": [],
   "source": [
    "import pandas as pd\n",
    "import numpy as np"
   ]
  },
  {
   "cell_type": "code",
   "execution_count": 2,
   "metadata": {},
   "outputs": [],
   "source": [
    "df = pd.read_csv('train.csv')"
   ]
  },
  {
   "cell_type": "code",
   "execution_count": 3,
   "metadata": {},
   "outputs": [
    {
     "data": {
      "text/html": [
       "<div>\n",
       "<style scoped>\n",
       "    .dataframe tbody tr th:only-of-type {\n",
       "        vertical-align: middle;\n",
       "    }\n",
       "\n",
       "    .dataframe tbody tr th {\n",
       "        vertical-align: top;\n",
       "    }\n",
       "\n",
       "    .dataframe thead th {\n",
       "        text-align: right;\n",
       "    }\n",
       "</style>\n",
       "<table border=\"1\" class=\"dataframe\">\n",
       "  <thead>\n",
       "    <tr style=\"text-align: right;\">\n",
       "      <th></th>\n",
       "      <th>tBodyAcc-mean()-X</th>\n",
       "      <th>tBodyAcc-mean()-Y</th>\n",
       "      <th>tBodyAcc-mean()-Z</th>\n",
       "      <th>tBodyAcc-std()-X</th>\n",
       "      <th>tBodyAcc-std()-Y</th>\n",
       "      <th>tBodyAcc-std()-Z</th>\n",
       "      <th>tBodyAcc-mad()-X</th>\n",
       "      <th>tBodyAcc-mad()-Y</th>\n",
       "      <th>tBodyAcc-mad()-Z</th>\n",
       "      <th>tBodyAcc-max()-X</th>\n",
       "      <th>...</th>\n",
       "      <th>fBodyBodyGyroJerkMag-kurtosis()</th>\n",
       "      <th>angle(tBodyAccMean,gravity)</th>\n",
       "      <th>angle(tBodyAccJerkMean),gravityMean)</th>\n",
       "      <th>angle(tBodyGyroMean,gravityMean)</th>\n",
       "      <th>angle(tBodyGyroJerkMean,gravityMean)</th>\n",
       "      <th>angle(X,gravityMean)</th>\n",
       "      <th>angle(Y,gravityMean)</th>\n",
       "      <th>angle(Z,gravityMean)</th>\n",
       "      <th>subject</th>\n",
       "      <th>Activity</th>\n",
       "    </tr>\n",
       "  </thead>\n",
       "  <tbody>\n",
       "    <tr>\n",
       "      <th>0</th>\n",
       "      <td>0.288585</td>\n",
       "      <td>-0.020294</td>\n",
       "      <td>-0.132905</td>\n",
       "      <td>-0.995279</td>\n",
       "      <td>-0.983111</td>\n",
       "      <td>-0.913526</td>\n",
       "      <td>-0.995112</td>\n",
       "      <td>-0.983185</td>\n",
       "      <td>-0.923527</td>\n",
       "      <td>-0.934724</td>\n",
       "      <td>...</td>\n",
       "      <td>-0.710304</td>\n",
       "      <td>-0.112754</td>\n",
       "      <td>0.030400</td>\n",
       "      <td>-0.464761</td>\n",
       "      <td>-0.018446</td>\n",
       "      <td>-0.841247</td>\n",
       "      <td>0.179941</td>\n",
       "      <td>-0.058627</td>\n",
       "      <td>1</td>\n",
       "      <td>STANDING</td>\n",
       "    </tr>\n",
       "    <tr>\n",
       "      <th>1</th>\n",
       "      <td>0.278419</td>\n",
       "      <td>-0.016411</td>\n",
       "      <td>-0.123520</td>\n",
       "      <td>-0.998245</td>\n",
       "      <td>-0.975300</td>\n",
       "      <td>-0.960322</td>\n",
       "      <td>-0.998807</td>\n",
       "      <td>-0.974914</td>\n",
       "      <td>-0.957686</td>\n",
       "      <td>-0.943068</td>\n",
       "      <td>...</td>\n",
       "      <td>-0.861499</td>\n",
       "      <td>0.053477</td>\n",
       "      <td>-0.007435</td>\n",
       "      <td>-0.732626</td>\n",
       "      <td>0.703511</td>\n",
       "      <td>-0.844788</td>\n",
       "      <td>0.180289</td>\n",
       "      <td>-0.054317</td>\n",
       "      <td>1</td>\n",
       "      <td>STANDING</td>\n",
       "    </tr>\n",
       "    <tr>\n",
       "      <th>2</th>\n",
       "      <td>0.279653</td>\n",
       "      <td>-0.019467</td>\n",
       "      <td>-0.113462</td>\n",
       "      <td>-0.995380</td>\n",
       "      <td>-0.967187</td>\n",
       "      <td>-0.978944</td>\n",
       "      <td>-0.996520</td>\n",
       "      <td>-0.963668</td>\n",
       "      <td>-0.977469</td>\n",
       "      <td>-0.938692</td>\n",
       "      <td>...</td>\n",
       "      <td>-0.760104</td>\n",
       "      <td>-0.118559</td>\n",
       "      <td>0.177899</td>\n",
       "      <td>0.100699</td>\n",
       "      <td>0.808529</td>\n",
       "      <td>-0.848933</td>\n",
       "      <td>0.180637</td>\n",
       "      <td>-0.049118</td>\n",
       "      <td>1</td>\n",
       "      <td>STANDING</td>\n",
       "    </tr>\n",
       "    <tr>\n",
       "      <th>3</th>\n",
       "      <td>0.279174</td>\n",
       "      <td>-0.026201</td>\n",
       "      <td>-0.123283</td>\n",
       "      <td>-0.996091</td>\n",
       "      <td>-0.983403</td>\n",
       "      <td>-0.990675</td>\n",
       "      <td>-0.997099</td>\n",
       "      <td>-0.982750</td>\n",
       "      <td>-0.989302</td>\n",
       "      <td>-0.938692</td>\n",
       "      <td>...</td>\n",
       "      <td>-0.482845</td>\n",
       "      <td>-0.036788</td>\n",
       "      <td>-0.012892</td>\n",
       "      <td>0.640011</td>\n",
       "      <td>-0.485366</td>\n",
       "      <td>-0.848649</td>\n",
       "      <td>0.181935</td>\n",
       "      <td>-0.047663</td>\n",
       "      <td>1</td>\n",
       "      <td>STANDING</td>\n",
       "    </tr>\n",
       "    <tr>\n",
       "      <th>4</th>\n",
       "      <td>0.276629</td>\n",
       "      <td>-0.016570</td>\n",
       "      <td>-0.115362</td>\n",
       "      <td>-0.998139</td>\n",
       "      <td>-0.980817</td>\n",
       "      <td>-0.990482</td>\n",
       "      <td>-0.998321</td>\n",
       "      <td>-0.979672</td>\n",
       "      <td>-0.990441</td>\n",
       "      <td>-0.942469</td>\n",
       "      <td>...</td>\n",
       "      <td>-0.699205</td>\n",
       "      <td>0.123320</td>\n",
       "      <td>0.122542</td>\n",
       "      <td>0.693578</td>\n",
       "      <td>-0.615971</td>\n",
       "      <td>-0.847865</td>\n",
       "      <td>0.185151</td>\n",
       "      <td>-0.043892</td>\n",
       "      <td>1</td>\n",
       "      <td>STANDING</td>\n",
       "    </tr>\n",
       "  </tbody>\n",
       "</table>\n",
       "<p>5 rows × 563 columns</p>\n",
       "</div>"
      ],
      "text/plain": [
       "   tBodyAcc-mean()-X  tBodyAcc-mean()-Y  tBodyAcc-mean()-Z  tBodyAcc-std()-X  \\\n",
       "0           0.288585          -0.020294          -0.132905         -0.995279   \n",
       "1           0.278419          -0.016411          -0.123520         -0.998245   \n",
       "2           0.279653          -0.019467          -0.113462         -0.995380   \n",
       "3           0.279174          -0.026201          -0.123283         -0.996091   \n",
       "4           0.276629          -0.016570          -0.115362         -0.998139   \n",
       "\n",
       "   tBodyAcc-std()-Y  tBodyAcc-std()-Z  tBodyAcc-mad()-X  tBodyAcc-mad()-Y  \\\n",
       "0         -0.983111         -0.913526         -0.995112         -0.983185   \n",
       "1         -0.975300         -0.960322         -0.998807         -0.974914   \n",
       "2         -0.967187         -0.978944         -0.996520         -0.963668   \n",
       "3         -0.983403         -0.990675         -0.997099         -0.982750   \n",
       "4         -0.980817         -0.990482         -0.998321         -0.979672   \n",
       "\n",
       "   tBodyAcc-mad()-Z  tBodyAcc-max()-X  ...  fBodyBodyGyroJerkMag-kurtosis()  \\\n",
       "0         -0.923527         -0.934724  ...                        -0.710304   \n",
       "1         -0.957686         -0.943068  ...                        -0.861499   \n",
       "2         -0.977469         -0.938692  ...                        -0.760104   \n",
       "3         -0.989302         -0.938692  ...                        -0.482845   \n",
       "4         -0.990441         -0.942469  ...                        -0.699205   \n",
       "\n",
       "   angle(tBodyAccMean,gravity)  angle(tBodyAccJerkMean),gravityMean)  \\\n",
       "0                    -0.112754                              0.030400   \n",
       "1                     0.053477                             -0.007435   \n",
       "2                    -0.118559                              0.177899   \n",
       "3                    -0.036788                             -0.012892   \n",
       "4                     0.123320                              0.122542   \n",
       "\n",
       "   angle(tBodyGyroMean,gravityMean)  angle(tBodyGyroJerkMean,gravityMean)  \\\n",
       "0                         -0.464761                             -0.018446   \n",
       "1                         -0.732626                              0.703511   \n",
       "2                          0.100699                              0.808529   \n",
       "3                          0.640011                             -0.485366   \n",
       "4                          0.693578                             -0.615971   \n",
       "\n",
       "   angle(X,gravityMean)  angle(Y,gravityMean)  angle(Z,gravityMean)  subject  \\\n",
       "0             -0.841247              0.179941             -0.058627        1   \n",
       "1             -0.844788              0.180289             -0.054317        1   \n",
       "2             -0.848933              0.180637             -0.049118        1   \n",
       "3             -0.848649              0.181935             -0.047663        1   \n",
       "4             -0.847865              0.185151             -0.043892        1   \n",
       "\n",
       "   Activity  \n",
       "0  STANDING  \n",
       "1  STANDING  \n",
       "2  STANDING  \n",
       "3  STANDING  \n",
       "4  STANDING  \n",
       "\n",
       "[5 rows x 563 columns]"
      ]
     },
     "execution_count": 3,
     "metadata": {},
     "output_type": "execute_result"
    }
   ],
   "source": [
    "df.head()"
   ]
  },
  {
   "cell_type": "code",
   "execution_count": 4,
   "metadata": {},
   "outputs": [],
   "source": [
    "from sklearn.utils import shuffle\n",
    "df = shuffle(df)"
   ]
  },
  {
   "cell_type": "code",
   "execution_count": 5,
   "metadata": {},
   "outputs": [
    {
     "data": {
      "text/html": [
       "<div>\n",
       "<style scoped>\n",
       "    .dataframe tbody tr th:only-of-type {\n",
       "        vertical-align: middle;\n",
       "    }\n",
       "\n",
       "    .dataframe tbody tr th {\n",
       "        vertical-align: top;\n",
       "    }\n",
       "\n",
       "    .dataframe thead th {\n",
       "        text-align: right;\n",
       "    }\n",
       "</style>\n",
       "<table border=\"1\" class=\"dataframe\">\n",
       "  <thead>\n",
       "    <tr style=\"text-align: right;\">\n",
       "      <th></th>\n",
       "      <th>tBodyAcc-mean()-X</th>\n",
       "      <th>tBodyAcc-mean()-Y</th>\n",
       "      <th>tBodyAcc-mean()-Z</th>\n",
       "      <th>tBodyAcc-std()-X</th>\n",
       "      <th>tBodyAcc-std()-Y</th>\n",
       "      <th>tBodyAcc-std()-Z</th>\n",
       "      <th>tBodyAcc-mad()-X</th>\n",
       "      <th>tBodyAcc-mad()-Y</th>\n",
       "      <th>tBodyAcc-mad()-Z</th>\n",
       "      <th>tBodyAcc-max()-X</th>\n",
       "      <th>...</th>\n",
       "      <th>fBodyBodyGyroJerkMag-kurtosis()</th>\n",
       "      <th>angle(tBodyAccMean,gravity)</th>\n",
       "      <th>angle(tBodyAccJerkMean),gravityMean)</th>\n",
       "      <th>angle(tBodyGyroMean,gravityMean)</th>\n",
       "      <th>angle(tBodyGyroJerkMean,gravityMean)</th>\n",
       "      <th>angle(X,gravityMean)</th>\n",
       "      <th>angle(Y,gravityMean)</th>\n",
       "      <th>angle(Z,gravityMean)</th>\n",
       "      <th>subject</th>\n",
       "      <th>Activity</th>\n",
       "    </tr>\n",
       "  </thead>\n",
       "  <tbody>\n",
       "    <tr>\n",
       "      <th>6954</th>\n",
       "      <td>0.313210</td>\n",
       "      <td>-0.049109</td>\n",
       "      <td>-0.110762</td>\n",
       "      <td>-0.023739</td>\n",
       "      <td>-0.193961</td>\n",
       "      <td>0.118607</td>\n",
       "      <td>-0.121185</td>\n",
       "      <td>-0.185572</td>\n",
       "      <td>0.178321</td>\n",
       "      <td>0.292089</td>\n",
       "      <td>...</td>\n",
       "      <td>-0.912295</td>\n",
       "      <td>-0.401999</td>\n",
       "      <td>-0.781603</td>\n",
       "      <td>-0.932418</td>\n",
       "      <td>-0.318142</td>\n",
       "      <td>-0.771288</td>\n",
       "      <td>0.254887</td>\n",
       "      <td>-0.003083</td>\n",
       "      <td>29</td>\n",
       "      <td>WALKING_UPSTAIRS</td>\n",
       "    </tr>\n",
       "    <tr>\n",
       "      <th>6449</th>\n",
       "      <td>0.309527</td>\n",
       "      <td>0.020113</td>\n",
       "      <td>-0.127626</td>\n",
       "      <td>-0.277582</td>\n",
       "      <td>-0.244691</td>\n",
       "      <td>-0.382164</td>\n",
       "      <td>-0.343332</td>\n",
       "      <td>-0.356129</td>\n",
       "      <td>-0.432845</td>\n",
       "      <td>-0.014618</td>\n",
       "      <td>...</td>\n",
       "      <td>-0.301351</td>\n",
       "      <td>-0.030647</td>\n",
       "      <td>-0.523318</td>\n",
       "      <td>0.977104</td>\n",
       "      <td>0.823868</td>\n",
       "      <td>-0.585362</td>\n",
       "      <td>0.326489</td>\n",
       "      <td>0.191537</td>\n",
       "      <td>28</td>\n",
       "      <td>WALKING_UPSTAIRS</td>\n",
       "    </tr>\n",
       "    <tr>\n",
       "      <th>4292</th>\n",
       "      <td>0.250006</td>\n",
       "      <td>-0.019057</td>\n",
       "      <td>-0.100084</td>\n",
       "      <td>-0.933776</td>\n",
       "      <td>-0.970313</td>\n",
       "      <td>-0.944679</td>\n",
       "      <td>-0.935013</td>\n",
       "      <td>-0.968011</td>\n",
       "      <td>-0.937451</td>\n",
       "      <td>-0.892648</td>\n",
       "      <td>...</td>\n",
       "      <td>-0.807408</td>\n",
       "      <td>-0.037278</td>\n",
       "      <td>-0.122766</td>\n",
       "      <td>-0.348601</td>\n",
       "      <td>0.328199</td>\n",
       "      <td>0.404954</td>\n",
       "      <td>-0.364881</td>\n",
       "      <td>-0.622436</td>\n",
       "      <td>21</td>\n",
       "      <td>LAYING</td>\n",
       "    </tr>\n",
       "    <tr>\n",
       "      <th>2057</th>\n",
       "      <td>0.264330</td>\n",
       "      <td>-0.022072</td>\n",
       "      <td>-0.133379</td>\n",
       "      <td>-0.214011</td>\n",
       "      <td>-0.162882</td>\n",
       "      <td>-0.178638</td>\n",
       "      <td>-0.250467</td>\n",
       "      <td>-0.164771</td>\n",
       "      <td>-0.130833</td>\n",
       "      <td>-0.111599</td>\n",
       "      <td>...</td>\n",
       "      <td>-0.559576</td>\n",
       "      <td>0.231335</td>\n",
       "      <td>-0.100702</td>\n",
       "      <td>0.944175</td>\n",
       "      <td>-0.938698</td>\n",
       "      <td>-0.613441</td>\n",
       "      <td>0.332565</td>\n",
       "      <td>-0.110461</td>\n",
       "      <td>11</td>\n",
       "      <td>WALKING_UPSTAIRS</td>\n",
       "    </tr>\n",
       "    <tr>\n",
       "      <th>84</th>\n",
       "      <td>0.321140</td>\n",
       "      <td>0.001582</td>\n",
       "      <td>-0.043554</td>\n",
       "      <td>-0.233956</td>\n",
       "      <td>0.034775</td>\n",
       "      <td>-0.161930</td>\n",
       "      <td>-0.282959</td>\n",
       "      <td>0.017454</td>\n",
       "      <td>-0.140619</td>\n",
       "      <td>-0.073476</td>\n",
       "      <td>...</td>\n",
       "      <td>-0.381469</td>\n",
       "      <td>-0.148218</td>\n",
       "      <td>-0.552255</td>\n",
       "      <td>0.205244</td>\n",
       "      <td>0.377500</td>\n",
       "      <td>-0.776677</td>\n",
       "      <td>0.251218</td>\n",
       "      <td>0.038105</td>\n",
       "      <td>1</td>\n",
       "      <td>WALKING</td>\n",
       "    </tr>\n",
       "  </tbody>\n",
       "</table>\n",
       "<p>5 rows × 563 columns</p>\n",
       "</div>"
      ],
      "text/plain": [
       "      tBodyAcc-mean()-X  tBodyAcc-mean()-Y  tBodyAcc-mean()-Z  \\\n",
       "6954           0.313210          -0.049109          -0.110762   \n",
       "6449           0.309527           0.020113          -0.127626   \n",
       "4292           0.250006          -0.019057          -0.100084   \n",
       "2057           0.264330          -0.022072          -0.133379   \n",
       "84             0.321140           0.001582          -0.043554   \n",
       "\n",
       "      tBodyAcc-std()-X  tBodyAcc-std()-Y  tBodyAcc-std()-Z  tBodyAcc-mad()-X  \\\n",
       "6954         -0.023739         -0.193961          0.118607         -0.121185   \n",
       "6449         -0.277582         -0.244691         -0.382164         -0.343332   \n",
       "4292         -0.933776         -0.970313         -0.944679         -0.935013   \n",
       "2057         -0.214011         -0.162882         -0.178638         -0.250467   \n",
       "84           -0.233956          0.034775         -0.161930         -0.282959   \n",
       "\n",
       "      tBodyAcc-mad()-Y  tBodyAcc-mad()-Z  tBodyAcc-max()-X  ...  \\\n",
       "6954         -0.185572          0.178321          0.292089  ...   \n",
       "6449         -0.356129         -0.432845         -0.014618  ...   \n",
       "4292         -0.968011         -0.937451         -0.892648  ...   \n",
       "2057         -0.164771         -0.130833         -0.111599  ...   \n",
       "84            0.017454         -0.140619         -0.073476  ...   \n",
       "\n",
       "      fBodyBodyGyroJerkMag-kurtosis()  angle(tBodyAccMean,gravity)  \\\n",
       "6954                        -0.912295                    -0.401999   \n",
       "6449                        -0.301351                    -0.030647   \n",
       "4292                        -0.807408                    -0.037278   \n",
       "2057                        -0.559576                     0.231335   \n",
       "84                          -0.381469                    -0.148218   \n",
       "\n",
       "      angle(tBodyAccJerkMean),gravityMean)  angle(tBodyGyroMean,gravityMean)  \\\n",
       "6954                             -0.781603                         -0.932418   \n",
       "6449                             -0.523318                          0.977104   \n",
       "4292                             -0.122766                         -0.348601   \n",
       "2057                             -0.100702                          0.944175   \n",
       "84                               -0.552255                          0.205244   \n",
       "\n",
       "      angle(tBodyGyroJerkMean,gravityMean)  angle(X,gravityMean)  \\\n",
       "6954                             -0.318142             -0.771288   \n",
       "6449                              0.823868             -0.585362   \n",
       "4292                              0.328199              0.404954   \n",
       "2057                             -0.938698             -0.613441   \n",
       "84                                0.377500             -0.776677   \n",
       "\n",
       "      angle(Y,gravityMean)  angle(Z,gravityMean)  subject          Activity  \n",
       "6954              0.254887             -0.003083       29  WALKING_UPSTAIRS  \n",
       "6449              0.326489              0.191537       28  WALKING_UPSTAIRS  \n",
       "4292             -0.364881             -0.622436       21            LAYING  \n",
       "2057              0.332565             -0.110461       11  WALKING_UPSTAIRS  \n",
       "84                0.251218              0.038105        1           WALKING  \n",
       "\n",
       "[5 rows x 563 columns]"
      ]
     },
     "execution_count": 5,
     "metadata": {},
     "output_type": "execute_result"
    }
   ],
   "source": [
    "df.head()"
   ]
  },
  {
   "cell_type": "markdown",
   "metadata": {},
   "source": [
    "# 범주형 특성 처리"
   ]
  },
  {
   "cell_type": "code",
   "execution_count": 6,
   "metadata": {},
   "outputs": [],
   "source": [
    "from sklearn.preprocessing import LabelEncoder\n",
    "\n",
    "df_cat = df['Activity']\n",
    "encoder = LabelEncoder()\n",
    "encoder.fit(df_cat)\n",
    "df_encoded = encoder.transform(df_cat)"
   ]
  },
  {
   "cell_type": "code",
   "execution_count": 7,
   "metadata": {},
   "outputs": [
    {
     "data": {
      "text/plain": [
       "6954    5\n",
       "6449    5\n",
       "4292    0\n",
       "2057    5\n",
       "84      3\n",
       "       ..\n",
       "7037    0\n",
       "6321    1\n",
       "2363    5\n",
       "61      0\n",
       "4850    4\n",
       "Name: Activity, Length: 7352, dtype: int32"
      ]
     },
     "execution_count": 7,
     "metadata": {},
     "output_type": "execute_result"
    }
   ],
   "source": [
    "df['Activity'] = df_encoded\n",
    "df['Activity']"
   ]
  },
  {
   "cell_type": "code",
   "execution_count": 8,
   "metadata": {},
   "outputs": [
    {
     "data": {
      "text/html": [
       "<div>\n",
       "<style scoped>\n",
       "    .dataframe tbody tr th:only-of-type {\n",
       "        vertical-align: middle;\n",
       "    }\n",
       "\n",
       "    .dataframe tbody tr th {\n",
       "        vertical-align: top;\n",
       "    }\n",
       "\n",
       "    .dataframe thead th {\n",
       "        text-align: right;\n",
       "    }\n",
       "</style>\n",
       "<table border=\"1\" class=\"dataframe\">\n",
       "  <thead>\n",
       "    <tr style=\"text-align: right;\">\n",
       "      <th></th>\n",
       "      <th>tBodyAcc-mean()-X</th>\n",
       "      <th>tBodyAcc-mean()-Y</th>\n",
       "      <th>tBodyAcc-mean()-Z</th>\n",
       "      <th>tBodyAcc-std()-X</th>\n",
       "      <th>tBodyAcc-std()-Y</th>\n",
       "      <th>tBodyAcc-std()-Z</th>\n",
       "      <th>tBodyAcc-mad()-X</th>\n",
       "      <th>tBodyAcc-mad()-Y</th>\n",
       "      <th>tBodyAcc-mad()-Z</th>\n",
       "      <th>tBodyAcc-max()-X</th>\n",
       "      <th>...</th>\n",
       "      <th>fBodyBodyGyroJerkMag-meanFreq()</th>\n",
       "      <th>fBodyBodyGyroJerkMag-skewness()</th>\n",
       "      <th>fBodyBodyGyroJerkMag-kurtosis()</th>\n",
       "      <th>angle(tBodyAccMean,gravity)</th>\n",
       "      <th>angle(tBodyAccJerkMean),gravityMean)</th>\n",
       "      <th>angle(tBodyGyroMean,gravityMean)</th>\n",
       "      <th>angle(tBodyGyroJerkMean,gravityMean)</th>\n",
       "      <th>angle(X,gravityMean)</th>\n",
       "      <th>angle(Y,gravityMean)</th>\n",
       "      <th>angle(Z,gravityMean)</th>\n",
       "    </tr>\n",
       "  </thead>\n",
       "  <tbody>\n",
       "    <tr>\n",
       "      <th>6954</th>\n",
       "      <td>0.313210</td>\n",
       "      <td>-0.049109</td>\n",
       "      <td>-0.110762</td>\n",
       "      <td>-0.023739</td>\n",
       "      <td>-0.193961</td>\n",
       "      <td>0.118607</td>\n",
       "      <td>-0.121185</td>\n",
       "      <td>-0.185572</td>\n",
       "      <td>0.178321</td>\n",
       "      <td>0.292089</td>\n",
       "      <td>...</td>\n",
       "      <td>0.092663</td>\n",
       "      <td>-0.688458</td>\n",
       "      <td>-0.912295</td>\n",
       "      <td>-0.401999</td>\n",
       "      <td>-0.781603</td>\n",
       "      <td>-0.932418</td>\n",
       "      <td>-0.318142</td>\n",
       "      <td>-0.771288</td>\n",
       "      <td>0.254887</td>\n",
       "      <td>-0.003083</td>\n",
       "    </tr>\n",
       "    <tr>\n",
       "      <th>6449</th>\n",
       "      <td>0.309527</td>\n",
       "      <td>0.020113</td>\n",
       "      <td>-0.127626</td>\n",
       "      <td>-0.277582</td>\n",
       "      <td>-0.244691</td>\n",
       "      <td>-0.382164</td>\n",
       "      <td>-0.343332</td>\n",
       "      <td>-0.356129</td>\n",
       "      <td>-0.432845</td>\n",
       "      <td>-0.014618</td>\n",
       "      <td>...</td>\n",
       "      <td>-0.114151</td>\n",
       "      <td>0.082982</td>\n",
       "      <td>-0.301351</td>\n",
       "      <td>-0.030647</td>\n",
       "      <td>-0.523318</td>\n",
       "      <td>0.977104</td>\n",
       "      <td>0.823868</td>\n",
       "      <td>-0.585362</td>\n",
       "      <td>0.326489</td>\n",
       "      <td>0.191537</td>\n",
       "    </tr>\n",
       "    <tr>\n",
       "      <th>4292</th>\n",
       "      <td>0.250006</td>\n",
       "      <td>-0.019057</td>\n",
       "      <td>-0.100084</td>\n",
       "      <td>-0.933776</td>\n",
       "      <td>-0.970313</td>\n",
       "      <td>-0.944679</td>\n",
       "      <td>-0.935013</td>\n",
       "      <td>-0.968011</td>\n",
       "      <td>-0.937451</td>\n",
       "      <td>-0.892648</td>\n",
       "      <td>...</td>\n",
       "      <td>0.276825</td>\n",
       "      <td>-0.556408</td>\n",
       "      <td>-0.807408</td>\n",
       "      <td>-0.037278</td>\n",
       "      <td>-0.122766</td>\n",
       "      <td>-0.348601</td>\n",
       "      <td>0.328199</td>\n",
       "      <td>0.404954</td>\n",
       "      <td>-0.364881</td>\n",
       "      <td>-0.622436</td>\n",
       "    </tr>\n",
       "    <tr>\n",
       "      <th>2057</th>\n",
       "      <td>0.264330</td>\n",
       "      <td>-0.022072</td>\n",
       "      <td>-0.133379</td>\n",
       "      <td>-0.214011</td>\n",
       "      <td>-0.162882</td>\n",
       "      <td>-0.178638</td>\n",
       "      <td>-0.250467</td>\n",
       "      <td>-0.164771</td>\n",
       "      <td>-0.130833</td>\n",
       "      <td>-0.111599</td>\n",
       "      <td>...</td>\n",
       "      <td>-0.011800</td>\n",
       "      <td>-0.130592</td>\n",
       "      <td>-0.559576</td>\n",
       "      <td>0.231335</td>\n",
       "      <td>-0.100702</td>\n",
       "      <td>0.944175</td>\n",
       "      <td>-0.938698</td>\n",
       "      <td>-0.613441</td>\n",
       "      <td>0.332565</td>\n",
       "      <td>-0.110461</td>\n",
       "    </tr>\n",
       "    <tr>\n",
       "      <th>84</th>\n",
       "      <td>0.321140</td>\n",
       "      <td>0.001582</td>\n",
       "      <td>-0.043554</td>\n",
       "      <td>-0.233956</td>\n",
       "      <td>0.034775</td>\n",
       "      <td>-0.161930</td>\n",
       "      <td>-0.282959</td>\n",
       "      <td>0.017454</td>\n",
       "      <td>-0.140619</td>\n",
       "      <td>-0.073476</td>\n",
       "      <td>...</td>\n",
       "      <td>0.219942</td>\n",
       "      <td>-0.026833</td>\n",
       "      <td>-0.381469</td>\n",
       "      <td>-0.148218</td>\n",
       "      <td>-0.552255</td>\n",
       "      <td>0.205244</td>\n",
       "      <td>0.377500</td>\n",
       "      <td>-0.776677</td>\n",
       "      <td>0.251218</td>\n",
       "      <td>0.038105</td>\n",
       "    </tr>\n",
       "    <tr>\n",
       "      <th>...</th>\n",
       "      <td>...</td>\n",
       "      <td>...</td>\n",
       "      <td>...</td>\n",
       "      <td>...</td>\n",
       "      <td>...</td>\n",
       "      <td>...</td>\n",
       "      <td>...</td>\n",
       "      <td>...</td>\n",
       "      <td>...</td>\n",
       "      <td>...</td>\n",
       "      <td>...</td>\n",
       "      <td>...</td>\n",
       "      <td>...</td>\n",
       "      <td>...</td>\n",
       "      <td>...</td>\n",
       "      <td>...</td>\n",
       "      <td>...</td>\n",
       "      <td>...</td>\n",
       "      <td>...</td>\n",
       "      <td>...</td>\n",
       "      <td>...</td>\n",
       "    </tr>\n",
       "    <tr>\n",
       "      <th>7037</th>\n",
       "      <td>0.280666</td>\n",
       "      <td>-0.017065</td>\n",
       "      <td>-0.111839</td>\n",
       "      <td>-0.993730</td>\n",
       "      <td>-0.995204</td>\n",
       "      <td>-0.994156</td>\n",
       "      <td>-0.993719</td>\n",
       "      <td>-0.995711</td>\n",
       "      <td>-0.993809</td>\n",
       "      <td>-0.939731</td>\n",
       "      <td>...</td>\n",
       "      <td>0.556113</td>\n",
       "      <td>-0.689984</td>\n",
       "      <td>-0.943012</td>\n",
       "      <td>0.431430</td>\n",
       "      <td>-0.003865</td>\n",
       "      <td>0.327441</td>\n",
       "      <td>0.074704</td>\n",
       "      <td>0.513018</td>\n",
       "      <td>-0.389893</td>\n",
       "      <td>-0.617092</td>\n",
       "    </tr>\n",
       "    <tr>\n",
       "      <th>6321</th>\n",
       "      <td>0.278658</td>\n",
       "      <td>-0.018938</td>\n",
       "      <td>-0.099832</td>\n",
       "      <td>-0.994363</td>\n",
       "      <td>-0.975580</td>\n",
       "      <td>-0.972589</td>\n",
       "      <td>-0.995377</td>\n",
       "      <td>-0.975454</td>\n",
       "      <td>-0.971105</td>\n",
       "      <td>-0.932851</td>\n",
       "      <td>...</td>\n",
       "      <td>0.130828</td>\n",
       "      <td>-0.574119</td>\n",
       "      <td>-0.852945</td>\n",
       "      <td>-0.043838</td>\n",
       "      <td>0.093133</td>\n",
       "      <td>-0.376548</td>\n",
       "      <td>-0.254330</td>\n",
       "      <td>-0.779881</td>\n",
       "      <td>0.243097</td>\n",
       "      <td>0.065406</td>\n",
       "    </tr>\n",
       "    <tr>\n",
       "      <th>2363</th>\n",
       "      <td>0.308442</td>\n",
       "      <td>-0.015297</td>\n",
       "      <td>-0.111328</td>\n",
       "      <td>-0.377743</td>\n",
       "      <td>0.138645</td>\n",
       "      <td>0.488501</td>\n",
       "      <td>-0.428510</td>\n",
       "      <td>0.113555</td>\n",
       "      <td>0.453496</td>\n",
       "      <td>-0.213540</td>\n",
       "      <td>...</td>\n",
       "      <td>0.029475</td>\n",
       "      <td>-0.602545</td>\n",
       "      <td>-0.876986</td>\n",
       "      <td>-0.636669</td>\n",
       "      <td>-0.550541</td>\n",
       "      <td>0.970190</td>\n",
       "      <td>0.327675</td>\n",
       "      <td>-0.422307</td>\n",
       "      <td>0.319935</td>\n",
       "      <td>0.350596</td>\n",
       "    </tr>\n",
       "    <tr>\n",
       "      <th>61</th>\n",
       "      <td>0.275884</td>\n",
       "      <td>-0.016150</td>\n",
       "      <td>-0.108829</td>\n",
       "      <td>-0.995511</td>\n",
       "      <td>-0.995548</td>\n",
       "      <td>-0.994001</td>\n",
       "      <td>-0.996150</td>\n",
       "      <td>-0.995344</td>\n",
       "      <td>-0.993879</td>\n",
       "      <td>-0.933459</td>\n",
       "      <td>...</td>\n",
       "      <td>0.614152</td>\n",
       "      <td>-0.584606</td>\n",
       "      <td>-0.775285</td>\n",
       "      <td>-0.240982</td>\n",
       "      <td>-0.544388</td>\n",
       "      <td>-0.228995</td>\n",
       "      <td>-0.039423</td>\n",
       "      <td>0.397303</td>\n",
       "      <td>-0.544198</td>\n",
       "      <td>-0.433433</td>\n",
       "    </tr>\n",
       "    <tr>\n",
       "      <th>4850</th>\n",
       "      <td>0.270595</td>\n",
       "      <td>0.000372</td>\n",
       "      <td>-0.067743</td>\n",
       "      <td>0.055525</td>\n",
       "      <td>0.115859</td>\n",
       "      <td>0.213620</td>\n",
       "      <td>-0.037002</td>\n",
       "      <td>0.113487</td>\n",
       "      <td>0.156642</td>\n",
       "      <td>0.489104</td>\n",
       "      <td>...</td>\n",
       "      <td>0.175259</td>\n",
       "      <td>0.004205</td>\n",
       "      <td>-0.325338</td>\n",
       "      <td>0.195615</td>\n",
       "      <td>-0.359267</td>\n",
       "      <td>-0.546635</td>\n",
       "      <td>0.427486</td>\n",
       "      <td>-0.792061</td>\n",
       "      <td>0.167329</td>\n",
       "      <td>0.149450</td>\n",
       "    </tr>\n",
       "  </tbody>\n",
       "</table>\n",
       "<p>7352 rows × 561 columns</p>\n",
       "</div>"
      ],
      "text/plain": [
       "      tBodyAcc-mean()-X  tBodyAcc-mean()-Y  tBodyAcc-mean()-Z  \\\n",
       "6954           0.313210          -0.049109          -0.110762   \n",
       "6449           0.309527           0.020113          -0.127626   \n",
       "4292           0.250006          -0.019057          -0.100084   \n",
       "2057           0.264330          -0.022072          -0.133379   \n",
       "84             0.321140           0.001582          -0.043554   \n",
       "...                 ...                ...                ...   \n",
       "7037           0.280666          -0.017065          -0.111839   \n",
       "6321           0.278658          -0.018938          -0.099832   \n",
       "2363           0.308442          -0.015297          -0.111328   \n",
       "61             0.275884          -0.016150          -0.108829   \n",
       "4850           0.270595           0.000372          -0.067743   \n",
       "\n",
       "      tBodyAcc-std()-X  tBodyAcc-std()-Y  tBodyAcc-std()-Z  tBodyAcc-mad()-X  \\\n",
       "6954         -0.023739         -0.193961          0.118607         -0.121185   \n",
       "6449         -0.277582         -0.244691         -0.382164         -0.343332   \n",
       "4292         -0.933776         -0.970313         -0.944679         -0.935013   \n",
       "2057         -0.214011         -0.162882         -0.178638         -0.250467   \n",
       "84           -0.233956          0.034775         -0.161930         -0.282959   \n",
       "...                ...               ...               ...               ...   \n",
       "7037         -0.993730         -0.995204         -0.994156         -0.993719   \n",
       "6321         -0.994363         -0.975580         -0.972589         -0.995377   \n",
       "2363         -0.377743          0.138645          0.488501         -0.428510   \n",
       "61           -0.995511         -0.995548         -0.994001         -0.996150   \n",
       "4850          0.055525          0.115859          0.213620         -0.037002   \n",
       "\n",
       "      tBodyAcc-mad()-Y  tBodyAcc-mad()-Z  tBodyAcc-max()-X  ...  \\\n",
       "6954         -0.185572          0.178321          0.292089  ...   \n",
       "6449         -0.356129         -0.432845         -0.014618  ...   \n",
       "4292         -0.968011         -0.937451         -0.892648  ...   \n",
       "2057         -0.164771         -0.130833         -0.111599  ...   \n",
       "84            0.017454         -0.140619         -0.073476  ...   \n",
       "...                ...               ...               ...  ...   \n",
       "7037         -0.995711         -0.993809         -0.939731  ...   \n",
       "6321         -0.975454         -0.971105         -0.932851  ...   \n",
       "2363          0.113555          0.453496         -0.213540  ...   \n",
       "61           -0.995344         -0.993879         -0.933459  ...   \n",
       "4850          0.113487          0.156642          0.489104  ...   \n",
       "\n",
       "      fBodyBodyGyroJerkMag-meanFreq()  fBodyBodyGyroJerkMag-skewness()  \\\n",
       "6954                         0.092663                        -0.688458   \n",
       "6449                        -0.114151                         0.082982   \n",
       "4292                         0.276825                        -0.556408   \n",
       "2057                        -0.011800                        -0.130592   \n",
       "84                           0.219942                        -0.026833   \n",
       "...                               ...                              ...   \n",
       "7037                         0.556113                        -0.689984   \n",
       "6321                         0.130828                        -0.574119   \n",
       "2363                         0.029475                        -0.602545   \n",
       "61                           0.614152                        -0.584606   \n",
       "4850                         0.175259                         0.004205   \n",
       "\n",
       "      fBodyBodyGyroJerkMag-kurtosis()  angle(tBodyAccMean,gravity)  \\\n",
       "6954                        -0.912295                    -0.401999   \n",
       "6449                        -0.301351                    -0.030647   \n",
       "4292                        -0.807408                    -0.037278   \n",
       "2057                        -0.559576                     0.231335   \n",
       "84                          -0.381469                    -0.148218   \n",
       "...                               ...                          ...   \n",
       "7037                        -0.943012                     0.431430   \n",
       "6321                        -0.852945                    -0.043838   \n",
       "2363                        -0.876986                    -0.636669   \n",
       "61                          -0.775285                    -0.240982   \n",
       "4850                        -0.325338                     0.195615   \n",
       "\n",
       "      angle(tBodyAccJerkMean),gravityMean)  angle(tBodyGyroMean,gravityMean)  \\\n",
       "6954                             -0.781603                         -0.932418   \n",
       "6449                             -0.523318                          0.977104   \n",
       "4292                             -0.122766                         -0.348601   \n",
       "2057                             -0.100702                          0.944175   \n",
       "84                               -0.552255                          0.205244   \n",
       "...                                    ...                               ...   \n",
       "7037                             -0.003865                          0.327441   \n",
       "6321                              0.093133                         -0.376548   \n",
       "2363                             -0.550541                          0.970190   \n",
       "61                               -0.544388                         -0.228995   \n",
       "4850                             -0.359267                         -0.546635   \n",
       "\n",
       "      angle(tBodyGyroJerkMean,gravityMean)  angle(X,gravityMean)  \\\n",
       "6954                             -0.318142             -0.771288   \n",
       "6449                              0.823868             -0.585362   \n",
       "4292                              0.328199              0.404954   \n",
       "2057                             -0.938698             -0.613441   \n",
       "84                                0.377500             -0.776677   \n",
       "...                                    ...                   ...   \n",
       "7037                              0.074704              0.513018   \n",
       "6321                             -0.254330             -0.779881   \n",
       "2363                              0.327675             -0.422307   \n",
       "61                               -0.039423              0.397303   \n",
       "4850                              0.427486             -0.792061   \n",
       "\n",
       "      angle(Y,gravityMean)  angle(Z,gravityMean)  \n",
       "6954              0.254887             -0.003083  \n",
       "6449              0.326489              0.191537  \n",
       "4292             -0.364881             -0.622436  \n",
       "2057              0.332565             -0.110461  \n",
       "84                0.251218              0.038105  \n",
       "...                    ...                   ...  \n",
       "7037             -0.389893             -0.617092  \n",
       "6321              0.243097              0.065406  \n",
       "2363              0.319935              0.350596  \n",
       "61               -0.544198             -0.433433  \n",
       "4850              0.167329              0.149450  \n",
       "\n",
       "[7352 rows x 561 columns]"
      ]
     },
     "execution_count": 8,
     "metadata": {},
     "output_type": "execute_result"
    }
   ],
   "source": [
    "X = df.drop(['subject', 'Activity'], axis=1)\n",
    "X"
   ]
  },
  {
   "cell_type": "code",
   "execution_count": 9,
   "metadata": {},
   "outputs": [
    {
     "data": {
      "text/plain": [
       "6954    5\n",
       "6449    5\n",
       "4292    0\n",
       "2057    5\n",
       "84      3\n",
       "       ..\n",
       "7037    0\n",
       "6321    1\n",
       "2363    5\n",
       "61      0\n",
       "4850    4\n",
       "Name: Activity, Length: 7352, dtype: int32"
      ]
     },
     "execution_count": 9,
     "metadata": {},
     "output_type": "execute_result"
    }
   ],
   "source": [
    "y = df['Activity']\n",
    "y"
   ]
  },
  {
   "cell_type": "markdown",
   "metadata": {},
   "source": [
    "# SGD"
   ]
  },
  {
   "cell_type": "code",
   "execution_count": 25,
   "metadata": {},
   "outputs": [],
   "source": [
    "from sklearn.linear_model import SGDClassifier\n",
    "\n",
    "clf = SGDClassifier(max_iter=1000,loss=\"hinge\", penalty=None, eta0 = 0.1, random_state=42)"
   ]
  },
  {
   "cell_type": "code",
   "execution_count": 26,
   "metadata": {},
   "outputs": [
    {
     "data": {
      "text/plain": [
       "SGDClassifier(eta0=0.1, penalty=None, random_state=42)"
      ]
     },
     "execution_count": 26,
     "metadata": {},
     "output_type": "execute_result"
    }
   ],
   "source": [
    "clf.fit(X, y)"
   ]
  },
  {
   "cell_type": "code",
   "execution_count": 27,
   "metadata": {},
   "outputs": [
    {
     "data": {
      "text/plain": [
       "array([[1406,    0,    0,    0,    1,    0],\n",
       "       [   5, 1206,   74,    0,    0,    1],\n",
       "       [   0,   87, 1286,    1,    0,    0],\n",
       "       [   0,    0,    0, 1218,    4,    4],\n",
       "       [   0,    0,    0,    3,  977,    6],\n",
       "       [   0,    0,    0,    6,    5, 1062]], dtype=int64)"
      ]
     },
     "execution_count": 27,
     "metadata": {},
     "output_type": "execute_result"
    }
   ],
   "source": [
    "from sklearn.model_selection import cross_val_predict\n",
    "from sklearn.metrics import confusion_matrix\n",
    "\n",
    "y_pred = cross_val_predict(clf, X, y, cv=10)\n",
    "conf_mx = confusion_matrix(y, y_pred)\n",
    "conf_mx"
   ]
  },
  {
   "cell_type": "code",
   "execution_count": 28,
   "metadata": {},
   "outputs": [
    {
     "data": {
      "text/plain": [
       "0.9732072611653354"
      ]
     },
     "execution_count": 28,
     "metadata": {},
     "output_type": "execute_result"
    }
   ],
   "source": [
    "from sklearn.model_selection import cross_val_score\n",
    "\n",
    "SGD_score = cross_val_score(clf, X, y, cv=10, scoring=\"accuracy\")\n",
    "SGD_score.mean()"
   ]
  },
  {
   "cell_type": "markdown",
   "metadata": {},
   "source": [
    "# RandomForest"
   ]
  },
  {
   "cell_type": "code",
   "execution_count": 30,
   "metadata": {},
   "outputs": [
    {
     "data": {
      "text/plain": [
       "RandomForestClassifier(random_state=42)"
      ]
     },
     "execution_count": 30,
     "metadata": {},
     "output_type": "execute_result"
    }
   ],
   "source": [
    "from sklearn.ensemble import RandomForestClassifier\n",
    "\n",
    "rnd_clf = RandomForestClassifier(random_state=42)\n",
    "rnd_clf.fit(X, y)"
   ]
  },
  {
   "cell_type": "code",
   "execution_count": 31,
   "metadata": {},
   "outputs": [
    {
     "data": {
      "text/plain": [
       "array([[1407,    0,    0,    0,    0,    0],\n",
       "       [   0, 1235,   50,    0,    0,    1],\n",
       "       [   0,   46, 1328,    0,    0,    0],\n",
       "       [   0,    0,    0, 1209,   10,    7],\n",
       "       [   0,    0,    0,    5,  972,    9],\n",
       "       [   0,    0,    0,    3,    5, 1065]], dtype=int64)"
      ]
     },
     "execution_count": 31,
     "metadata": {},
     "output_type": "execute_result"
    }
   ],
   "source": [
    "y_pred = cross_val_predict(rnd_clf, X, y, cv=10)\n",
    "conf_mx = confusion_matrix(y, y_pred)\n",
    "conf_mx"
   ]
  },
  {
   "cell_type": "code",
   "execution_count": 32,
   "metadata": {},
   "outputs": [
    {
     "data": {
      "text/plain": [
       "0.9815030686187519"
      ]
     },
     "execution_count": 32,
     "metadata": {},
     "output_type": "execute_result"
    }
   ],
   "source": [
    "SGD_score = cross_val_score(rnd_clf, X, y, cv=10, scoring=\"accuracy\")\n",
    "SGD_score.mean()"
   ]
  },
  {
   "cell_type": "code",
   "execution_count": 33,
   "metadata": {},
   "outputs": [],
   "source": [
    "from sklearn.model_selection import GridSearchCV"
   ]
  },
  {
   "cell_type": "code",
   "execution_count": 35,
   "metadata": {},
   "outputs": [],
   "source": [
    "params = {'n_estimators': [10, 100], \n",
    "          'max_depth': [6, 8, 10, 12],\n",
    "          'min_samples_leaf': [8, 12, 18],\n",
    "          'min_samples_split': [8, 16, 20]}"
   ]
  },
  {
   "cell_type": "code",
   "execution_count": 36,
   "metadata": {},
   "outputs": [],
   "source": [
    "grid_search = GridSearchCV(rnd_clf, params, cv=10, scoring=\"accuracy\", \n",
    "                           return_train_score=True)"
   ]
  },
  {
   "cell_type": "code",
   "execution_count": 37,
   "metadata": {},
   "outputs": [
    {
     "data": {
      "text/plain": [
       "GridSearchCV(cv=10, estimator=RandomForestClassifier(random_state=42),\n",
       "             param_grid={'max_depth': [6, 8, 10, 12],\n",
       "                         'min_samples_leaf': [8, 12, 18],\n",
       "                         'min_samples_split': [8, 16, 20],\n",
       "                         'n_estimators': [10, 100]},\n",
       "             return_train_score=True, scoring='accuracy')"
      ]
     },
     "execution_count": 37,
     "metadata": {},
     "output_type": "execute_result"
    }
   ],
   "source": [
    "grid_search.fit(X, y)"
   ]
  },
  {
   "cell_type": "code",
   "execution_count": 38,
   "metadata": {},
   "outputs": [
    {
     "data": {
      "text/plain": [
       "{'max_depth': 12,\n",
       " 'min_samples_leaf': 8,\n",
       " 'min_samples_split': 8,\n",
       " 'n_estimators': 100}"
      ]
     },
     "execution_count": 38,
     "metadata": {},
     "output_type": "execute_result"
    }
   ],
   "source": [
    "grid_search.best_params_"
   ]
  },
  {
   "cell_type": "code",
   "execution_count": 39,
   "metadata": {},
   "outputs": [
    {
     "data": {
      "text/plain": [
       "RandomForestClassifier(max_depth=12, min_samples_leaf=8, min_samples_split=8,\n",
       "                       random_state=42)"
      ]
     },
     "execution_count": 39,
     "metadata": {},
     "output_type": "execute_result"
    }
   ],
   "source": [
    "grid_search.best_estimator_"
   ]
  },
  {
   "cell_type": "code",
   "execution_count": 41,
   "metadata": {},
   "outputs": [
    {
     "name": "stdout",
     "output_type": "stream",
     "text": [
      "0.9434179976338362 {'max_depth': 6, 'min_samples_leaf': 8, 'min_samples_split': 8, 'n_estimators': 10}\n",
      "0.9548436113575866 {'max_depth': 6, 'min_samples_leaf': 8, 'min_samples_split': 8, 'n_estimators': 100}\n",
      "0.9434179976338362 {'max_depth': 6, 'min_samples_leaf': 8, 'min_samples_split': 16, 'n_estimators': 10}\n",
      "0.9548436113575866 {'max_depth': 6, 'min_samples_leaf': 8, 'min_samples_split': 16, 'n_estimators': 100}\n",
      "0.9440993788819876 {'max_depth': 6, 'min_samples_leaf': 8, 'min_samples_split': 20, 'n_estimators': 10}\n",
      "0.9551153504880212 {'max_depth': 6, 'min_samples_leaf': 8, 'min_samples_split': 20, 'n_estimators': 100}\n",
      "0.9462749556344277 {'max_depth': 6, 'min_samples_leaf': 12, 'min_samples_split': 8, 'n_estimators': 10}\n",
      "0.9540276545400769 {'max_depth': 6, 'min_samples_leaf': 12, 'min_samples_split': 8, 'n_estimators': 100}\n",
      "0.9462749556344277 {'max_depth': 6, 'min_samples_leaf': 12, 'min_samples_split': 16, 'n_estimators': 10}\n",
      "0.9540276545400769 {'max_depth': 6, 'min_samples_leaf': 12, 'min_samples_split': 16, 'n_estimators': 100}\n",
      "0.9462749556344277 {'max_depth': 6, 'min_samples_leaf': 12, 'min_samples_split': 20, 'n_estimators': 10}\n",
      "0.9540276545400769 {'max_depth': 6, 'min_samples_leaf': 12, 'min_samples_split': 20, 'n_estimators': 100}\n",
      "0.9435533126293997 {'max_depth': 6, 'min_samples_leaf': 18, 'min_samples_split': 8, 'n_estimators': 10}\n",
      "0.9519870230700977 {'max_depth': 6, 'min_samples_leaf': 18, 'min_samples_split': 8, 'n_estimators': 100}\n",
      "0.9435533126293997 {'max_depth': 6, 'min_samples_leaf': 18, 'min_samples_split': 16, 'n_estimators': 10}\n",
      "0.9519870230700977 {'max_depth': 6, 'min_samples_leaf': 18, 'min_samples_split': 16, 'n_estimators': 100}\n",
      "0.9435533126293997 {'max_depth': 6, 'min_samples_leaf': 18, 'min_samples_split': 20, 'n_estimators': 10}\n",
      "0.9519870230700977 {'max_depth': 6, 'min_samples_leaf': 18, 'min_samples_split': 20, 'n_estimators': 100}\n",
      "0.9572927758059746 {'max_depth': 8, 'min_samples_leaf': 8, 'min_samples_split': 8, 'n_estimators': 10}\n",
      "0.9673578453120377 {'max_depth': 8, 'min_samples_leaf': 8, 'min_samples_split': 8, 'n_estimators': 100}\n",
      "0.9572927758059746 {'max_depth': 8, 'min_samples_leaf': 8, 'min_samples_split': 16, 'n_estimators': 10}\n",
      "0.9673578453120377 {'max_depth': 8, 'min_samples_leaf': 8, 'min_samples_split': 16, 'n_estimators': 100}\n",
      "0.9567502218278616 {'max_depth': 8, 'min_samples_leaf': 8, 'min_samples_split': 20, 'n_estimators': 10}\n",
      "0.9658610618160306 {'max_depth': 8, 'min_samples_leaf': 8, 'min_samples_split': 20, 'n_estimators': 100}\n",
      "0.956884982253771 {'max_depth': 8, 'min_samples_leaf': 12, 'min_samples_split': 8, 'n_estimators': 10}\n",
      "0.9642289633244602 {'max_depth': 8, 'min_samples_leaf': 12, 'min_samples_split': 8, 'n_estimators': 100}\n",
      "0.956884982253771 {'max_depth': 8, 'min_samples_leaf': 12, 'min_samples_split': 16, 'n_estimators': 10}\n",
      "0.9642289633244602 {'max_depth': 8, 'min_samples_leaf': 12, 'min_samples_split': 16, 'n_estimators': 100}\n",
      "0.956884982253771 {'max_depth': 8, 'min_samples_leaf': 12, 'min_samples_split': 20, 'n_estimators': 10}\n",
      "0.9642289633244602 {'max_depth': 8, 'min_samples_leaf': 12, 'min_samples_split': 20, 'n_estimators': 100}\n",
      "0.956204895001479 {'max_depth': 8, 'min_samples_leaf': 18, 'min_samples_split': 8, 'n_estimators': 10}\n",
      "0.9632763975155282 {'max_depth': 8, 'min_samples_leaf': 18, 'min_samples_split': 8, 'n_estimators': 100}\n",
      "0.956204895001479 {'max_depth': 8, 'min_samples_leaf': 18, 'min_samples_split': 16, 'n_estimators': 10}\n",
      "0.9632763975155282 {'max_depth': 8, 'min_samples_leaf': 18, 'min_samples_split': 16, 'n_estimators': 100}\n",
      "0.956204895001479 {'max_depth': 8, 'min_samples_leaf': 18, 'min_samples_split': 20, 'n_estimators': 10}\n",
      "0.9632763975155282 {'max_depth': 8, 'min_samples_leaf': 18, 'min_samples_split': 20, 'n_estimators': 100}\n",
      "0.9657248225377106 {'max_depth': 10, 'min_samples_leaf': 8, 'min_samples_split': 8, 'n_estimators': 10}\n",
      "0.972117531795327 {'max_depth': 10, 'min_samples_leaf': 8, 'min_samples_split': 8, 'n_estimators': 100}\n",
      "0.9657248225377106 {'max_depth': 10, 'min_samples_leaf': 8, 'min_samples_split': 16, 'n_estimators': 10}\n",
      "0.972117531795327 {'max_depth': 10, 'min_samples_leaf': 8, 'min_samples_split': 16, 'n_estimators': 100}\n",
      "0.9653166592724046 {'max_depth': 10, 'min_samples_leaf': 8, 'min_samples_split': 20, 'n_estimators': 10}\n",
      "0.972253771073647 {'max_depth': 10, 'min_samples_leaf': 8, 'min_samples_split': 20, 'n_estimators': 100}\n",
      "0.9612348417627921 {'max_depth': 10, 'min_samples_leaf': 12, 'min_samples_split': 8, 'n_estimators': 10}\n",
      "0.9691258133688256 {'max_depth': 10, 'min_samples_leaf': 12, 'min_samples_split': 8, 'n_estimators': 100}\n",
      "0.9612348417627921 {'max_depth': 10, 'min_samples_leaf': 12, 'min_samples_split': 16, 'n_estimators': 10}\n",
      "0.9691258133688256 {'max_depth': 10, 'min_samples_leaf': 12, 'min_samples_split': 16, 'n_estimators': 100}\n",
      "0.9612348417627921 {'max_depth': 10, 'min_samples_leaf': 12, 'min_samples_split': 20, 'n_estimators': 10}\n",
      "0.9691258133688256 {'max_depth': 10, 'min_samples_leaf': 12, 'min_samples_split': 20, 'n_estimators': 100}\n",
      "0.9593326678497485 {'max_depth': 10, 'min_samples_leaf': 18, 'min_samples_split': 8, 'n_estimators': 10}\n",
      "0.9643642783200237 {'max_depth': 10, 'min_samples_leaf': 18, 'min_samples_split': 8, 'n_estimators': 100}\n",
      "0.9593326678497485 {'max_depth': 10, 'min_samples_leaf': 18, 'min_samples_split': 16, 'n_estimators': 10}\n",
      "0.9643642783200237 {'max_depth': 10, 'min_samples_leaf': 18, 'min_samples_split': 16, 'n_estimators': 100}\n",
      "0.9593326678497485 {'max_depth': 10, 'min_samples_leaf': 18, 'min_samples_split': 20, 'n_estimators': 10}\n",
      "0.9643642783200237 {'max_depth': 10, 'min_samples_leaf': 18, 'min_samples_split': 20, 'n_estimators': 100}\n",
      "0.9659973010943508 {'max_depth': 12, 'min_samples_leaf': 8, 'min_samples_split': 8, 'n_estimators': 10}\n",
      "0.9734775214433601 {'max_depth': 12, 'min_samples_leaf': 8, 'min_samples_split': 8, 'n_estimators': 100}\n",
      "0.9659973010943508 {'max_depth': 12, 'min_samples_leaf': 8, 'min_samples_split': 16, 'n_estimators': 10}\n",
      "0.9734775214433601 {'max_depth': 12, 'min_samples_leaf': 8, 'min_samples_split': 16, 'n_estimators': 100}\n",
      "0.9649096051464063 {'max_depth': 12, 'min_samples_leaf': 8, 'min_samples_split': 20, 'n_estimators': 10}\n",
      "0.9732063368825792 {'max_depth': 12, 'min_samples_leaf': 8, 'min_samples_split': 20, 'n_estimators': 100}\n",
      "0.9650428867199053 {'max_depth': 12, 'min_samples_leaf': 12, 'min_samples_split': 8, 'n_estimators': 10}\n",
      "0.9703497485950903 {'max_depth': 12, 'min_samples_leaf': 12, 'min_samples_split': 8, 'n_estimators': 100}\n",
      "0.9650428867199053 {'max_depth': 12, 'min_samples_leaf': 12, 'min_samples_split': 16, 'n_estimators': 10}\n",
      "0.9703497485950903 {'max_depth': 12, 'min_samples_leaf': 12, 'min_samples_split': 16, 'n_estimators': 100}\n",
      "0.9650428867199053 {'max_depth': 12, 'min_samples_leaf': 12, 'min_samples_split': 20, 'n_estimators': 10}\n",
      "0.9703497485950903 {'max_depth': 12, 'min_samples_leaf': 12, 'min_samples_split': 20, 'n_estimators': 100}\n",
      "0.9593321132800947 {'max_depth': 12, 'min_samples_leaf': 18, 'min_samples_split': 8, 'n_estimators': 10}\n",
      "0.9659969313812482 {'max_depth': 12, 'min_samples_leaf': 18, 'min_samples_split': 8, 'n_estimators': 100}\n",
      "0.9593321132800947 {'max_depth': 12, 'min_samples_leaf': 18, 'min_samples_split': 16, 'n_estimators': 10}\n",
      "0.9659969313812482 {'max_depth': 12, 'min_samples_leaf': 18, 'min_samples_split': 16, 'n_estimators': 100}\n",
      "0.9593321132800947 {'max_depth': 12, 'min_samples_leaf': 18, 'min_samples_split': 20, 'n_estimators': 10}\n",
      "0.9659969313812482 {'max_depth': 12, 'min_samples_leaf': 18, 'min_samples_split': 20, 'n_estimators': 100}\n"
     ]
    }
   ],
   "source": [
    "cvres = grid_search.cv_results_\n",
    "for mean_score, params in zip(cvres[\"mean_test_score\"], cvres[\"params\"]):\n",
    "    print(mean_score, params)"
   ]
  },
  {
   "cell_type": "code",
   "execution_count": 42,
   "metadata": {},
   "outputs": [],
   "source": [
    "from sklearn.ensemble import BaggingClassifier"
   ]
  },
  {
   "cell_type": "code",
   "execution_count": 44,
   "metadata": {},
   "outputs": [],
   "source": [
    "bag_clf = BaggingClassifier(\n",
    "    RandomForestClassifier(random_state=42), bootstrap=True, random_state=42)"
   ]
  },
  {
   "cell_type": "code",
   "execution_count": 45,
   "metadata": {},
   "outputs": [
    {
     "data": {
      "text/plain": [
       "BaggingClassifier(base_estimator=RandomForestClassifier(random_state=42),\n",
       "                  random_state=42)"
      ]
     },
     "execution_count": 45,
     "metadata": {},
     "output_type": "execute_result"
    }
   ],
   "source": [
    "bag_clf.fit(X, y)"
   ]
  },
  {
   "cell_type": "code",
   "execution_count": 46,
   "metadata": {},
   "outputs": [
    {
     "data": {
      "text/plain": [
       "0.9775574903874592"
      ]
     },
     "execution_count": 46,
     "metadata": {},
     "output_type": "execute_result"
    }
   ],
   "source": [
    "bag_clf_score = cross_val_score(bag_clf, X, y, cv=10, scoring=\"accuracy\")\n",
    "bag_clf_score.mean()"
   ]
  },
  {
   "cell_type": "code",
   "execution_count": 47,
   "metadata": {},
   "outputs": [],
   "source": [
    "bag_clf = BaggingClassifier(\n",
    "    RandomForestClassifier(random_state=42), bootstrap=True, oob_score=True, random_state=42)"
   ]
  },
  {
   "cell_type": "code",
   "execution_count": 48,
   "metadata": {},
   "outputs": [
    {
     "name": "stderr",
     "output_type": "stream",
     "text": [
      "C:\\Users\\yeonju\\anaconda3\\lib\\site-packages\\sklearn\\ensemble\\_bagging.py:638: UserWarning: Some inputs do not have OOB scores. This probably means too few estimators were used to compute any reliable oob estimates.\n",
      "  warn(\"Some inputs do not have OOB scores. \"\n",
      "C:\\Users\\yeonju\\anaconda3\\lib\\site-packages\\sklearn\\ensemble\\_bagging.py:642: RuntimeWarning: invalid value encountered in true_divide\n",
      "  oob_decision_function = (predictions /\n"
     ]
    },
    {
     "data": {
      "text/plain": [
       "BaggingClassifier(base_estimator=RandomForestClassifier(random_state=42),\n",
       "                  oob_score=True, random_state=42)"
      ]
     },
     "execution_count": 48,
     "metadata": {},
     "output_type": "execute_result"
    }
   ],
   "source": [
    "bag_clf.fit(X, y)"
   ]
  },
  {
   "cell_type": "code",
   "execution_count": 49,
   "metadata": {},
   "outputs": [
    {
     "data": {
      "text/plain": [
       "0.9704842219804135"
      ]
     },
     "execution_count": 49,
     "metadata": {},
     "output_type": "execute_result"
    }
   ],
   "source": [
    "bag_clf.oob_score_"
   ]
  },
  {
   "cell_type": "code",
   "execution_count": 57,
   "metadata": {},
   "outputs": [],
   "source": [
    "bag_clf = BaggingClassifier(\n",
    "    RandomForestClassifier(random_state=42, n_jobs=-1), bootstrap=False, max_samples=1.0, \n",
    "    bootstrap_features=True, max_features=0.5, random_state=42)"
   ]
  },
  {
   "cell_type": "code",
   "execution_count": 58,
   "metadata": {},
   "outputs": [
    {
     "data": {
      "text/plain": [
       "BaggingClassifier(base_estimator=RandomForestClassifier(n_jobs=-1,\n",
       "                                                        random_state=42),\n",
       "                  bootstrap=False, bootstrap_features=True, max_features=0.5,\n",
       "                  random_state=42)"
      ]
     },
     "execution_count": 58,
     "metadata": {},
     "output_type": "execute_result"
    }
   ],
   "source": [
    "bag_clf.fit(X, y)"
   ]
  },
  {
   "cell_type": "code",
   "execution_count": 59,
   "metadata": {},
   "outputs": [
    {
     "data": {
      "text/plain": [
       "0.982998742975451"
      ]
     },
     "execution_count": 59,
     "metadata": {},
     "output_type": "execute_result"
    }
   ],
   "source": [
    "bag_clf_score = cross_val_score(bag_clf, X, y, cv=10, scoring=\"accuracy\")\n",
    "bag_clf_score.mean()"
   ]
  },
  {
   "cell_type": "code",
   "execution_count": null,
   "metadata": {},
   "outputs": [],
   "source": []
  }
 ],
 "metadata": {
  "kernelspec": {
   "display_name": "Python 3",
   "language": "python",
   "name": "python3"
  },
  "language_info": {
   "codemirror_mode": {
    "name": "ipython",
    "version": 3
   },
   "file_extension": ".py",
   "mimetype": "text/x-python",
   "name": "python",
   "nbconvert_exporter": "python",
   "pygments_lexer": "ipython3",
   "version": "3.8.3"
  }
 },
 "nbformat": 4,
 "nbformat_minor": 4
}
