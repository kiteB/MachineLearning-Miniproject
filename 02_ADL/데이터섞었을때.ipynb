{
 "cells": [
  {
   "cell_type": "code",
   "execution_count": 1,
   "metadata": {},
   "outputs": [],
   "source": [
    "import pandas as pd\n",
    "import numpy as np"
   ]
  },
  {
   "cell_type": "code",
   "execution_count": 2,
   "metadata": {},
   "outputs": [],
   "source": [
    "df = pd.read_csv('train.csv')"
   ]
  },
  {
   "cell_type": "code",
   "execution_count": 3,
   "metadata": {},
   "outputs": [
    {
     "data": {
      "text/html": [
       "<div>\n",
       "<style scoped>\n",
       "    .dataframe tbody tr th:only-of-type {\n",
       "        vertical-align: middle;\n",
       "    }\n",
       "\n",
       "    .dataframe tbody tr th {\n",
       "        vertical-align: top;\n",
       "    }\n",
       "\n",
       "    .dataframe thead th {\n",
       "        text-align: right;\n",
       "    }\n",
       "</style>\n",
       "<table border=\"1\" class=\"dataframe\">\n",
       "  <thead>\n",
       "    <tr style=\"text-align: right;\">\n",
       "      <th></th>\n",
       "      <th>tBodyAcc-mean()-X</th>\n",
       "      <th>tBodyAcc-mean()-Y</th>\n",
       "      <th>tBodyAcc-mean()-Z</th>\n",
       "      <th>tBodyAcc-std()-X</th>\n",
       "      <th>tBodyAcc-std()-Y</th>\n",
       "      <th>tBodyAcc-std()-Z</th>\n",
       "      <th>tBodyAcc-mad()-X</th>\n",
       "      <th>tBodyAcc-mad()-Y</th>\n",
       "      <th>tBodyAcc-mad()-Z</th>\n",
       "      <th>tBodyAcc-max()-X</th>\n",
       "      <th>...</th>\n",
       "      <th>fBodyBodyGyroJerkMag-kurtosis()</th>\n",
       "      <th>angle(tBodyAccMean,gravity)</th>\n",
       "      <th>angle(tBodyAccJerkMean),gravityMean)</th>\n",
       "      <th>angle(tBodyGyroMean,gravityMean)</th>\n",
       "      <th>angle(tBodyGyroJerkMean,gravityMean)</th>\n",
       "      <th>angle(X,gravityMean)</th>\n",
       "      <th>angle(Y,gravityMean)</th>\n",
       "      <th>angle(Z,gravityMean)</th>\n",
       "      <th>subject</th>\n",
       "      <th>Activity</th>\n",
       "    </tr>\n",
       "  </thead>\n",
       "  <tbody>\n",
       "    <tr>\n",
       "      <th>0</th>\n",
       "      <td>0.288585</td>\n",
       "      <td>-0.020294</td>\n",
       "      <td>-0.132905</td>\n",
       "      <td>-0.995279</td>\n",
       "      <td>-0.983111</td>\n",
       "      <td>-0.913526</td>\n",
       "      <td>-0.995112</td>\n",
       "      <td>-0.983185</td>\n",
       "      <td>-0.923527</td>\n",
       "      <td>-0.934724</td>\n",
       "      <td>...</td>\n",
       "      <td>-0.710304</td>\n",
       "      <td>-0.112754</td>\n",
       "      <td>0.030400</td>\n",
       "      <td>-0.464761</td>\n",
       "      <td>-0.018446</td>\n",
       "      <td>-0.841247</td>\n",
       "      <td>0.179941</td>\n",
       "      <td>-0.058627</td>\n",
       "      <td>1</td>\n",
       "      <td>STANDING</td>\n",
       "    </tr>\n",
       "    <tr>\n",
       "      <th>1</th>\n",
       "      <td>0.278419</td>\n",
       "      <td>-0.016411</td>\n",
       "      <td>-0.123520</td>\n",
       "      <td>-0.998245</td>\n",
       "      <td>-0.975300</td>\n",
       "      <td>-0.960322</td>\n",
       "      <td>-0.998807</td>\n",
       "      <td>-0.974914</td>\n",
       "      <td>-0.957686</td>\n",
       "      <td>-0.943068</td>\n",
       "      <td>...</td>\n",
       "      <td>-0.861499</td>\n",
       "      <td>0.053477</td>\n",
       "      <td>-0.007435</td>\n",
       "      <td>-0.732626</td>\n",
       "      <td>0.703511</td>\n",
       "      <td>-0.844788</td>\n",
       "      <td>0.180289</td>\n",
       "      <td>-0.054317</td>\n",
       "      <td>1</td>\n",
       "      <td>STANDING</td>\n",
       "    </tr>\n",
       "    <tr>\n",
       "      <th>2</th>\n",
       "      <td>0.279653</td>\n",
       "      <td>-0.019467</td>\n",
       "      <td>-0.113462</td>\n",
       "      <td>-0.995380</td>\n",
       "      <td>-0.967187</td>\n",
       "      <td>-0.978944</td>\n",
       "      <td>-0.996520</td>\n",
       "      <td>-0.963668</td>\n",
       "      <td>-0.977469</td>\n",
       "      <td>-0.938692</td>\n",
       "      <td>...</td>\n",
       "      <td>-0.760104</td>\n",
       "      <td>-0.118559</td>\n",
       "      <td>0.177899</td>\n",
       "      <td>0.100699</td>\n",
       "      <td>0.808529</td>\n",
       "      <td>-0.848933</td>\n",
       "      <td>0.180637</td>\n",
       "      <td>-0.049118</td>\n",
       "      <td>1</td>\n",
       "      <td>STANDING</td>\n",
       "    </tr>\n",
       "    <tr>\n",
       "      <th>3</th>\n",
       "      <td>0.279174</td>\n",
       "      <td>-0.026201</td>\n",
       "      <td>-0.123283</td>\n",
       "      <td>-0.996091</td>\n",
       "      <td>-0.983403</td>\n",
       "      <td>-0.990675</td>\n",
       "      <td>-0.997099</td>\n",
       "      <td>-0.982750</td>\n",
       "      <td>-0.989302</td>\n",
       "      <td>-0.938692</td>\n",
       "      <td>...</td>\n",
       "      <td>-0.482845</td>\n",
       "      <td>-0.036788</td>\n",
       "      <td>-0.012892</td>\n",
       "      <td>0.640011</td>\n",
       "      <td>-0.485366</td>\n",
       "      <td>-0.848649</td>\n",
       "      <td>0.181935</td>\n",
       "      <td>-0.047663</td>\n",
       "      <td>1</td>\n",
       "      <td>STANDING</td>\n",
       "    </tr>\n",
       "    <tr>\n",
       "      <th>4</th>\n",
       "      <td>0.276629</td>\n",
       "      <td>-0.016570</td>\n",
       "      <td>-0.115362</td>\n",
       "      <td>-0.998139</td>\n",
       "      <td>-0.980817</td>\n",
       "      <td>-0.990482</td>\n",
       "      <td>-0.998321</td>\n",
       "      <td>-0.979672</td>\n",
       "      <td>-0.990441</td>\n",
       "      <td>-0.942469</td>\n",
       "      <td>...</td>\n",
       "      <td>-0.699205</td>\n",
       "      <td>0.123320</td>\n",
       "      <td>0.122542</td>\n",
       "      <td>0.693578</td>\n",
       "      <td>-0.615971</td>\n",
       "      <td>-0.847865</td>\n",
       "      <td>0.185151</td>\n",
       "      <td>-0.043892</td>\n",
       "      <td>1</td>\n",
       "      <td>STANDING</td>\n",
       "    </tr>\n",
       "  </tbody>\n",
       "</table>\n",
       "<p>5 rows × 563 columns</p>\n",
       "</div>"
      ],
      "text/plain": [
       "   tBodyAcc-mean()-X  tBodyAcc-mean()-Y  tBodyAcc-mean()-Z  tBodyAcc-std()-X  \\\n",
       "0           0.288585          -0.020294          -0.132905         -0.995279   \n",
       "1           0.278419          -0.016411          -0.123520         -0.998245   \n",
       "2           0.279653          -0.019467          -0.113462         -0.995380   \n",
       "3           0.279174          -0.026201          -0.123283         -0.996091   \n",
       "4           0.276629          -0.016570          -0.115362         -0.998139   \n",
       "\n",
       "   tBodyAcc-std()-Y  tBodyAcc-std()-Z  tBodyAcc-mad()-X  tBodyAcc-mad()-Y  \\\n",
       "0         -0.983111         -0.913526         -0.995112         -0.983185   \n",
       "1         -0.975300         -0.960322         -0.998807         -0.974914   \n",
       "2         -0.967187         -0.978944         -0.996520         -0.963668   \n",
       "3         -0.983403         -0.990675         -0.997099         -0.982750   \n",
       "4         -0.980817         -0.990482         -0.998321         -0.979672   \n",
       "\n",
       "   tBodyAcc-mad()-Z  tBodyAcc-max()-X  ...  fBodyBodyGyroJerkMag-kurtosis()  \\\n",
       "0         -0.923527         -0.934724  ...                        -0.710304   \n",
       "1         -0.957686         -0.943068  ...                        -0.861499   \n",
       "2         -0.977469         -0.938692  ...                        -0.760104   \n",
       "3         -0.989302         -0.938692  ...                        -0.482845   \n",
       "4         -0.990441         -0.942469  ...                        -0.699205   \n",
       "\n",
       "   angle(tBodyAccMean,gravity)  angle(tBodyAccJerkMean),gravityMean)  \\\n",
       "0                    -0.112754                              0.030400   \n",
       "1                     0.053477                             -0.007435   \n",
       "2                    -0.118559                              0.177899   \n",
       "3                    -0.036788                             -0.012892   \n",
       "4                     0.123320                              0.122542   \n",
       "\n",
       "   angle(tBodyGyroMean,gravityMean)  angle(tBodyGyroJerkMean,gravityMean)  \\\n",
       "0                         -0.464761                             -0.018446   \n",
       "1                         -0.732626                              0.703511   \n",
       "2                          0.100699                              0.808529   \n",
       "3                          0.640011                             -0.485366   \n",
       "4                          0.693578                             -0.615971   \n",
       "\n",
       "   angle(X,gravityMean)  angle(Y,gravityMean)  angle(Z,gravityMean)  subject  \\\n",
       "0             -0.841247              0.179941             -0.058627        1   \n",
       "1             -0.844788              0.180289             -0.054317        1   \n",
       "2             -0.848933              0.180637             -0.049118        1   \n",
       "3             -0.848649              0.181935             -0.047663        1   \n",
       "4             -0.847865              0.185151             -0.043892        1   \n",
       "\n",
       "   Activity  \n",
       "0  STANDING  \n",
       "1  STANDING  \n",
       "2  STANDING  \n",
       "3  STANDING  \n",
       "4  STANDING  \n",
       "\n",
       "[5 rows x 563 columns]"
      ]
     },
     "execution_count": 3,
     "metadata": {},
     "output_type": "execute_result"
    }
   ],
   "source": [
    "df.head()"
   ]
  },
  {
   "cell_type": "code",
   "execution_count": 4,
   "metadata": {},
   "outputs": [],
   "source": [
    "from sklearn.utils import shuffle\n",
    "df = shuffle(df)"
   ]
  },
  {
   "cell_type": "code",
   "execution_count": 5,
   "metadata": {},
   "outputs": [
    {
     "data": {
      "text/html": [
       "<div>\n",
       "<style scoped>\n",
       "    .dataframe tbody tr th:only-of-type {\n",
       "        vertical-align: middle;\n",
       "    }\n",
       "\n",
       "    .dataframe tbody tr th {\n",
       "        vertical-align: top;\n",
       "    }\n",
       "\n",
       "    .dataframe thead th {\n",
       "        text-align: right;\n",
       "    }\n",
       "</style>\n",
       "<table border=\"1\" class=\"dataframe\">\n",
       "  <thead>\n",
       "    <tr style=\"text-align: right;\">\n",
       "      <th></th>\n",
       "      <th>tBodyAcc-mean()-X</th>\n",
       "      <th>tBodyAcc-mean()-Y</th>\n",
       "      <th>tBodyAcc-mean()-Z</th>\n",
       "      <th>tBodyAcc-std()-X</th>\n",
       "      <th>tBodyAcc-std()-Y</th>\n",
       "      <th>tBodyAcc-std()-Z</th>\n",
       "      <th>tBodyAcc-mad()-X</th>\n",
       "      <th>tBodyAcc-mad()-Y</th>\n",
       "      <th>tBodyAcc-mad()-Z</th>\n",
       "      <th>tBodyAcc-max()-X</th>\n",
       "      <th>...</th>\n",
       "      <th>fBodyBodyGyroJerkMag-kurtosis()</th>\n",
       "      <th>angle(tBodyAccMean,gravity)</th>\n",
       "      <th>angle(tBodyAccJerkMean),gravityMean)</th>\n",
       "      <th>angle(tBodyGyroMean,gravityMean)</th>\n",
       "      <th>angle(tBodyGyroJerkMean,gravityMean)</th>\n",
       "      <th>angle(X,gravityMean)</th>\n",
       "      <th>angle(Y,gravityMean)</th>\n",
       "      <th>angle(Z,gravityMean)</th>\n",
       "      <th>subject</th>\n",
       "      <th>Activity</th>\n",
       "    </tr>\n",
       "  </thead>\n",
       "  <tbody>\n",
       "    <tr>\n",
       "      <th>3098</th>\n",
       "      <td>0.281443</td>\n",
       "      <td>-0.013562</td>\n",
       "      <td>-0.112099</td>\n",
       "      <td>-0.996166</td>\n",
       "      <td>-0.995119</td>\n",
       "      <td>-0.992088</td>\n",
       "      <td>-0.996834</td>\n",
       "      <td>-0.994871</td>\n",
       "      <td>-0.992227</td>\n",
       "      <td>-0.938534</td>\n",
       "      <td>...</td>\n",
       "      <td>-0.727258</td>\n",
       "      <td>-0.025156</td>\n",
       "      <td>0.866087</td>\n",
       "      <td>0.079809</td>\n",
       "      <td>-0.251234</td>\n",
       "      <td>-0.665590</td>\n",
       "      <td>0.197420</td>\n",
       "      <td>-0.198653</td>\n",
       "      <td>16</td>\n",
       "      <td>SITTING</td>\n",
       "    </tr>\n",
       "    <tr>\n",
       "      <th>5253</th>\n",
       "      <td>0.381809</td>\n",
       "      <td>0.014971</td>\n",
       "      <td>-0.299646</td>\n",
       "      <td>-0.428689</td>\n",
       "      <td>-0.208797</td>\n",
       "      <td>-0.362497</td>\n",
       "      <td>-0.508433</td>\n",
       "      <td>-0.259373</td>\n",
       "      <td>-0.367289</td>\n",
       "      <td>-0.106581</td>\n",
       "      <td>...</td>\n",
       "      <td>-0.824583</td>\n",
       "      <td>-0.034125</td>\n",
       "      <td>0.314929</td>\n",
       "      <td>0.873633</td>\n",
       "      <td>0.193880</td>\n",
       "      <td>-0.719913</td>\n",
       "      <td>0.220496</td>\n",
       "      <td>-0.137270</td>\n",
       "      <td>25</td>\n",
       "      <td>WALKING_UPSTAIRS</td>\n",
       "    </tr>\n",
       "    <tr>\n",
       "      <th>2594</th>\n",
       "      <td>0.278755</td>\n",
       "      <td>-0.019206</td>\n",
       "      <td>-0.114072</td>\n",
       "      <td>-0.997516</td>\n",
       "      <td>-0.989017</td>\n",
       "      <td>-0.993706</td>\n",
       "      <td>-0.998158</td>\n",
       "      <td>-0.989110</td>\n",
       "      <td>-0.992372</td>\n",
       "      <td>-0.939371</td>\n",
       "      <td>...</td>\n",
       "      <td>-0.902563</td>\n",
       "      <td>-0.018786</td>\n",
       "      <td>0.505867</td>\n",
       "      <td>-0.028065</td>\n",
       "      <td>-0.092048</td>\n",
       "      <td>-0.928574</td>\n",
       "      <td>0.061595</td>\n",
       "      <td>-0.021477</td>\n",
       "      <td>15</td>\n",
       "      <td>SITTING</td>\n",
       "    </tr>\n",
       "    <tr>\n",
       "      <th>3200</th>\n",
       "      <td>0.252211</td>\n",
       "      <td>-0.001126</td>\n",
       "      <td>-0.147786</td>\n",
       "      <td>0.333709</td>\n",
       "      <td>0.084454</td>\n",
       "      <td>0.275450</td>\n",
       "      <td>0.284896</td>\n",
       "      <td>0.035243</td>\n",
       "      <td>0.240222</td>\n",
       "      <td>0.657705</td>\n",
       "      <td>...</td>\n",
       "      <td>-0.615648</td>\n",
       "      <td>0.063391</td>\n",
       "      <td>-0.334838</td>\n",
       "      <td>0.923035</td>\n",
       "      <td>-0.801307</td>\n",
       "      <td>-0.761963</td>\n",
       "      <td>0.022009</td>\n",
       "      <td>0.171961</td>\n",
       "      <td>16</td>\n",
       "      <td>WALKING_DOWNSTAIRS</td>\n",
       "    </tr>\n",
       "    <tr>\n",
       "      <th>5183</th>\n",
       "      <td>0.282519</td>\n",
       "      <td>-0.018264</td>\n",
       "      <td>-0.114047</td>\n",
       "      <td>-0.618574</td>\n",
       "      <td>-0.171798</td>\n",
       "      <td>-0.455385</td>\n",
       "      <td>-0.644180</td>\n",
       "      <td>-0.209997</td>\n",
       "      <td>-0.444016</td>\n",
       "      <td>-0.566440</td>\n",
       "      <td>...</td>\n",
       "      <td>-0.108343</td>\n",
       "      <td>-0.134273</td>\n",
       "      <td>-0.562825</td>\n",
       "      <td>-0.021453</td>\n",
       "      <td>-0.269273</td>\n",
       "      <td>-0.694684</td>\n",
       "      <td>0.159641</td>\n",
       "      <td>-0.192743</td>\n",
       "      <td>25</td>\n",
       "      <td>WALKING</td>\n",
       "    </tr>\n",
       "  </tbody>\n",
       "</table>\n",
       "<p>5 rows × 563 columns</p>\n",
       "</div>"
      ],
      "text/plain": [
       "      tBodyAcc-mean()-X  tBodyAcc-mean()-Y  tBodyAcc-mean()-Z  \\\n",
       "3098           0.281443          -0.013562          -0.112099   \n",
       "5253           0.381809           0.014971          -0.299646   \n",
       "2594           0.278755          -0.019206          -0.114072   \n",
       "3200           0.252211          -0.001126          -0.147786   \n",
       "5183           0.282519          -0.018264          -0.114047   \n",
       "\n",
       "      tBodyAcc-std()-X  tBodyAcc-std()-Y  tBodyAcc-std()-Z  tBodyAcc-mad()-X  \\\n",
       "3098         -0.996166         -0.995119         -0.992088         -0.996834   \n",
       "5253         -0.428689         -0.208797         -0.362497         -0.508433   \n",
       "2594         -0.997516         -0.989017         -0.993706         -0.998158   \n",
       "3200          0.333709          0.084454          0.275450          0.284896   \n",
       "5183         -0.618574         -0.171798         -0.455385         -0.644180   \n",
       "\n",
       "      tBodyAcc-mad()-Y  tBodyAcc-mad()-Z  tBodyAcc-max()-X  ...  \\\n",
       "3098         -0.994871         -0.992227         -0.938534  ...   \n",
       "5253         -0.259373         -0.367289         -0.106581  ...   \n",
       "2594         -0.989110         -0.992372         -0.939371  ...   \n",
       "3200          0.035243          0.240222          0.657705  ...   \n",
       "5183         -0.209997         -0.444016         -0.566440  ...   \n",
       "\n",
       "      fBodyBodyGyroJerkMag-kurtosis()  angle(tBodyAccMean,gravity)  \\\n",
       "3098                        -0.727258                    -0.025156   \n",
       "5253                        -0.824583                    -0.034125   \n",
       "2594                        -0.902563                    -0.018786   \n",
       "3200                        -0.615648                     0.063391   \n",
       "5183                        -0.108343                    -0.134273   \n",
       "\n",
       "      angle(tBodyAccJerkMean),gravityMean)  angle(tBodyGyroMean,gravityMean)  \\\n",
       "3098                              0.866087                          0.079809   \n",
       "5253                              0.314929                          0.873633   \n",
       "2594                              0.505867                         -0.028065   \n",
       "3200                             -0.334838                          0.923035   \n",
       "5183                             -0.562825                         -0.021453   \n",
       "\n",
       "      angle(tBodyGyroJerkMean,gravityMean)  angle(X,gravityMean)  \\\n",
       "3098                             -0.251234             -0.665590   \n",
       "5253                              0.193880             -0.719913   \n",
       "2594                             -0.092048             -0.928574   \n",
       "3200                             -0.801307             -0.761963   \n",
       "5183                             -0.269273             -0.694684   \n",
       "\n",
       "      angle(Y,gravityMean)  angle(Z,gravityMean)  subject            Activity  \n",
       "3098              0.197420             -0.198653       16             SITTING  \n",
       "5253              0.220496             -0.137270       25    WALKING_UPSTAIRS  \n",
       "2594              0.061595             -0.021477       15             SITTING  \n",
       "3200              0.022009              0.171961       16  WALKING_DOWNSTAIRS  \n",
       "5183              0.159641             -0.192743       25             WALKING  \n",
       "\n",
       "[5 rows x 563 columns]"
      ]
     },
     "execution_count": 5,
     "metadata": {},
     "output_type": "execute_result"
    }
   ],
   "source": [
    "df.head()"
   ]
  },
  {
   "cell_type": "markdown",
   "metadata": {},
   "source": [
    "-> 데이터 섞음"
   ]
  },
  {
   "cell_type": "markdown",
   "metadata": {},
   "source": [
    "# 범주형 특성 처리"
   ]
  },
  {
   "cell_type": "code",
   "execution_count": 7,
   "metadata": {},
   "outputs": [],
   "source": [
    "from sklearn.preprocessing import LabelEncoder\n",
    "\n",
    "df_cat = df['Activity']\n",
    "encoder = LabelEncoder()\n",
    "encoder.fit(df_cat)\n",
    "df_encoded = encoder.transform(df_cat)"
   ]
  },
  {
   "cell_type": "code",
   "execution_count": 8,
   "metadata": {},
   "outputs": [
    {
     "data": {
      "text/plain": [
       "3098    1\n",
       "5253    5\n",
       "2594    1\n",
       "3200    4\n",
       "5183    3\n",
       "       ..\n",
       "35      1\n",
       "1390    0\n",
       "5143    0\n",
       "6273    2\n",
       "2005    3\n",
       "Name: Activity, Length: 7352, dtype: int32"
      ]
     },
     "execution_count": 8,
     "metadata": {},
     "output_type": "execute_result"
    }
   ],
   "source": [
    "df['Activity'] = df_encoded\n",
    "df['Activity']"
   ]
  },
  {
   "cell_type": "code",
   "execution_count": 9,
   "metadata": {},
   "outputs": [
    {
     "data": {
      "text/html": [
       "<div>\n",
       "<style scoped>\n",
       "    .dataframe tbody tr th:only-of-type {\n",
       "        vertical-align: middle;\n",
       "    }\n",
       "\n",
       "    .dataframe tbody tr th {\n",
       "        vertical-align: top;\n",
       "    }\n",
       "\n",
       "    .dataframe thead th {\n",
       "        text-align: right;\n",
       "    }\n",
       "</style>\n",
       "<table border=\"1\" class=\"dataframe\">\n",
       "  <thead>\n",
       "    <tr style=\"text-align: right;\">\n",
       "      <th></th>\n",
       "      <th>tBodyAcc-mean()-X</th>\n",
       "      <th>tBodyAcc-mean()-Y</th>\n",
       "      <th>tBodyAcc-mean()-Z</th>\n",
       "      <th>tBodyAcc-std()-X</th>\n",
       "      <th>tBodyAcc-std()-Y</th>\n",
       "      <th>tBodyAcc-std()-Z</th>\n",
       "      <th>tBodyAcc-mad()-X</th>\n",
       "      <th>tBodyAcc-mad()-Y</th>\n",
       "      <th>tBodyAcc-mad()-Z</th>\n",
       "      <th>tBodyAcc-max()-X</th>\n",
       "      <th>...</th>\n",
       "      <th>fBodyBodyGyroJerkMag-kurtosis()</th>\n",
       "      <th>angle(tBodyAccMean,gravity)</th>\n",
       "      <th>angle(tBodyAccJerkMean),gravityMean)</th>\n",
       "      <th>angle(tBodyGyroMean,gravityMean)</th>\n",
       "      <th>angle(tBodyGyroJerkMean,gravityMean)</th>\n",
       "      <th>angle(X,gravityMean)</th>\n",
       "      <th>angle(Y,gravityMean)</th>\n",
       "      <th>angle(Z,gravityMean)</th>\n",
       "      <th>subject</th>\n",
       "      <th>Activity</th>\n",
       "    </tr>\n",
       "  </thead>\n",
       "  <tbody>\n",
       "    <tr>\n",
       "      <th>3098</th>\n",
       "      <td>0.281443</td>\n",
       "      <td>-0.013562</td>\n",
       "      <td>-0.112099</td>\n",
       "      <td>-0.996166</td>\n",
       "      <td>-0.995119</td>\n",
       "      <td>-0.992088</td>\n",
       "      <td>-0.996834</td>\n",
       "      <td>-0.994871</td>\n",
       "      <td>-0.992227</td>\n",
       "      <td>-0.938534</td>\n",
       "      <td>...</td>\n",
       "      <td>-0.727258</td>\n",
       "      <td>-0.025156</td>\n",
       "      <td>0.866087</td>\n",
       "      <td>0.079809</td>\n",
       "      <td>-0.251234</td>\n",
       "      <td>-0.665590</td>\n",
       "      <td>0.197420</td>\n",
       "      <td>-0.198653</td>\n",
       "      <td>16</td>\n",
       "      <td>1</td>\n",
       "    </tr>\n",
       "    <tr>\n",
       "      <th>5253</th>\n",
       "      <td>0.381809</td>\n",
       "      <td>0.014971</td>\n",
       "      <td>-0.299646</td>\n",
       "      <td>-0.428689</td>\n",
       "      <td>-0.208797</td>\n",
       "      <td>-0.362497</td>\n",
       "      <td>-0.508433</td>\n",
       "      <td>-0.259373</td>\n",
       "      <td>-0.367289</td>\n",
       "      <td>-0.106581</td>\n",
       "      <td>...</td>\n",
       "      <td>-0.824583</td>\n",
       "      <td>-0.034125</td>\n",
       "      <td>0.314929</td>\n",
       "      <td>0.873633</td>\n",
       "      <td>0.193880</td>\n",
       "      <td>-0.719913</td>\n",
       "      <td>0.220496</td>\n",
       "      <td>-0.137270</td>\n",
       "      <td>25</td>\n",
       "      <td>5</td>\n",
       "    </tr>\n",
       "    <tr>\n",
       "      <th>2594</th>\n",
       "      <td>0.278755</td>\n",
       "      <td>-0.019206</td>\n",
       "      <td>-0.114072</td>\n",
       "      <td>-0.997516</td>\n",
       "      <td>-0.989017</td>\n",
       "      <td>-0.993706</td>\n",
       "      <td>-0.998158</td>\n",
       "      <td>-0.989110</td>\n",
       "      <td>-0.992372</td>\n",
       "      <td>-0.939371</td>\n",
       "      <td>...</td>\n",
       "      <td>-0.902563</td>\n",
       "      <td>-0.018786</td>\n",
       "      <td>0.505867</td>\n",
       "      <td>-0.028065</td>\n",
       "      <td>-0.092048</td>\n",
       "      <td>-0.928574</td>\n",
       "      <td>0.061595</td>\n",
       "      <td>-0.021477</td>\n",
       "      <td>15</td>\n",
       "      <td>1</td>\n",
       "    </tr>\n",
       "    <tr>\n",
       "      <th>3200</th>\n",
       "      <td>0.252211</td>\n",
       "      <td>-0.001126</td>\n",
       "      <td>-0.147786</td>\n",
       "      <td>0.333709</td>\n",
       "      <td>0.084454</td>\n",
       "      <td>0.275450</td>\n",
       "      <td>0.284896</td>\n",
       "      <td>0.035243</td>\n",
       "      <td>0.240222</td>\n",
       "      <td>0.657705</td>\n",
       "      <td>...</td>\n",
       "      <td>-0.615648</td>\n",
       "      <td>0.063391</td>\n",
       "      <td>-0.334838</td>\n",
       "      <td>0.923035</td>\n",
       "      <td>-0.801307</td>\n",
       "      <td>-0.761963</td>\n",
       "      <td>0.022009</td>\n",
       "      <td>0.171961</td>\n",
       "      <td>16</td>\n",
       "      <td>4</td>\n",
       "    </tr>\n",
       "    <tr>\n",
       "      <th>5183</th>\n",
       "      <td>0.282519</td>\n",
       "      <td>-0.018264</td>\n",
       "      <td>-0.114047</td>\n",
       "      <td>-0.618574</td>\n",
       "      <td>-0.171798</td>\n",
       "      <td>-0.455385</td>\n",
       "      <td>-0.644180</td>\n",
       "      <td>-0.209997</td>\n",
       "      <td>-0.444016</td>\n",
       "      <td>-0.566440</td>\n",
       "      <td>...</td>\n",
       "      <td>-0.108343</td>\n",
       "      <td>-0.134273</td>\n",
       "      <td>-0.562825</td>\n",
       "      <td>-0.021453</td>\n",
       "      <td>-0.269273</td>\n",
       "      <td>-0.694684</td>\n",
       "      <td>0.159641</td>\n",
       "      <td>-0.192743</td>\n",
       "      <td>25</td>\n",
       "      <td>3</td>\n",
       "    </tr>\n",
       "    <tr>\n",
       "      <th>...</th>\n",
       "      <td>...</td>\n",
       "      <td>...</td>\n",
       "      <td>...</td>\n",
       "      <td>...</td>\n",
       "      <td>...</td>\n",
       "      <td>...</td>\n",
       "      <td>...</td>\n",
       "      <td>...</td>\n",
       "      <td>...</td>\n",
       "      <td>...</td>\n",
       "      <td>...</td>\n",
       "      <td>...</td>\n",
       "      <td>...</td>\n",
       "      <td>...</td>\n",
       "      <td>...</td>\n",
       "      <td>...</td>\n",
       "      <td>...</td>\n",
       "      <td>...</td>\n",
       "      <td>...</td>\n",
       "      <td>...</td>\n",
       "      <td>...</td>\n",
       "    </tr>\n",
       "    <tr>\n",
       "      <th>35</th>\n",
       "      <td>0.270908</td>\n",
       "      <td>-0.014413</td>\n",
       "      <td>-0.106522</td>\n",
       "      <td>-0.993856</td>\n",
       "      <td>-0.993179</td>\n",
       "      <td>-0.993470</td>\n",
       "      <td>-0.993878</td>\n",
       "      <td>-0.992131</td>\n",
       "      <td>-0.992788</td>\n",
       "      <td>-0.941617</td>\n",
       "      <td>...</td>\n",
       "      <td>-0.823181</td>\n",
       "      <td>0.064398</td>\n",
       "      <td>0.300924</td>\n",
       "      <td>0.117655</td>\n",
       "      <td>-0.046455</td>\n",
       "      <td>-0.316732</td>\n",
       "      <td>-0.217729</td>\n",
       "      <td>-0.323329</td>\n",
       "      <td>1</td>\n",
       "      <td>1</td>\n",
       "    </tr>\n",
       "    <tr>\n",
       "      <th>1390</th>\n",
       "      <td>0.277978</td>\n",
       "      <td>-0.018281</td>\n",
       "      <td>-0.107062</td>\n",
       "      <td>-0.965706</td>\n",
       "      <td>-0.957235</td>\n",
       "      <td>-0.983897</td>\n",
       "      <td>-0.966092</td>\n",
       "      <td>-0.952558</td>\n",
       "      <td>-0.981020</td>\n",
       "      <td>-0.911827</td>\n",
       "      <td>...</td>\n",
       "      <td>-0.609891</td>\n",
       "      <td>-0.198740</td>\n",
       "      <td>-0.136987</td>\n",
       "      <td>0.194095</td>\n",
       "      <td>-0.470506</td>\n",
       "      <td>0.573042</td>\n",
       "      <td>-0.101475</td>\n",
       "      <td>-0.920923</td>\n",
       "      <td>7</td>\n",
       "      <td>0</td>\n",
       "    </tr>\n",
       "    <tr>\n",
       "      <th>5143</th>\n",
       "      <td>1.000000</td>\n",
       "      <td>0.535820</td>\n",
       "      <td>-0.757526</td>\n",
       "      <td>-0.934471</td>\n",
       "      <td>0.493446</td>\n",
       "      <td>-0.536580</td>\n",
       "      <td>-0.942253</td>\n",
       "      <td>0.617615</td>\n",
       "      <td>-0.485989</td>\n",
       "      <td>-0.639321</td>\n",
       "      <td>...</td>\n",
       "      <td>-0.899375</td>\n",
       "      <td>0.024047</td>\n",
       "      <td>0.332918</td>\n",
       "      <td>-0.146925</td>\n",
       "      <td>0.265982</td>\n",
       "      <td>0.848406</td>\n",
       "      <td>-0.384103</td>\n",
       "      <td>-0.581865</td>\n",
       "      <td>25</td>\n",
       "      <td>0</td>\n",
       "    </tr>\n",
       "    <tr>\n",
       "      <th>6273</th>\n",
       "      <td>0.264130</td>\n",
       "      <td>-0.033283</td>\n",
       "      <td>-0.052674</td>\n",
       "      <td>-0.931186</td>\n",
       "      <td>-0.807468</td>\n",
       "      <td>-0.763221</td>\n",
       "      <td>-0.951753</td>\n",
       "      <td>-0.814512</td>\n",
       "      <td>-0.776642</td>\n",
       "      <td>-0.835407</td>\n",
       "      <td>...</td>\n",
       "      <td>0.301753</td>\n",
       "      <td>0.062452</td>\n",
       "      <td>-0.022452</td>\n",
       "      <td>-0.971079</td>\n",
       "      <td>0.595634</td>\n",
       "      <td>-0.762413</td>\n",
       "      <td>0.257507</td>\n",
       "      <td>0.058393</td>\n",
       "      <td>28</td>\n",
       "      <td>2</td>\n",
       "    </tr>\n",
       "    <tr>\n",
       "      <th>2005</th>\n",
       "      <td>0.273890</td>\n",
       "      <td>-0.013987</td>\n",
       "      <td>-0.130482</td>\n",
       "      <td>-0.470036</td>\n",
       "      <td>-0.077597</td>\n",
       "      <td>-0.558642</td>\n",
       "      <td>-0.507256</td>\n",
       "      <td>-0.081598</td>\n",
       "      <td>-0.532698</td>\n",
       "      <td>-0.449694</td>\n",
       "      <td>...</td>\n",
       "      <td>-0.550687</td>\n",
       "      <td>0.202120</td>\n",
       "      <td>-0.557869</td>\n",
       "      <td>0.282615</td>\n",
       "      <td>0.434414</td>\n",
       "      <td>-0.745823</td>\n",
       "      <td>0.227785</td>\n",
       "      <td>-0.104625</td>\n",
       "      <td>11</td>\n",
       "      <td>3</td>\n",
       "    </tr>\n",
       "  </tbody>\n",
       "</table>\n",
       "<p>7352 rows × 563 columns</p>\n",
       "</div>"
      ],
      "text/plain": [
       "      tBodyAcc-mean()-X  tBodyAcc-mean()-Y  tBodyAcc-mean()-Z  \\\n",
       "3098           0.281443          -0.013562          -0.112099   \n",
       "5253           0.381809           0.014971          -0.299646   \n",
       "2594           0.278755          -0.019206          -0.114072   \n",
       "3200           0.252211          -0.001126          -0.147786   \n",
       "5183           0.282519          -0.018264          -0.114047   \n",
       "...                 ...                ...                ...   \n",
       "35             0.270908          -0.014413          -0.106522   \n",
       "1390           0.277978          -0.018281          -0.107062   \n",
       "5143           1.000000           0.535820          -0.757526   \n",
       "6273           0.264130          -0.033283          -0.052674   \n",
       "2005           0.273890          -0.013987          -0.130482   \n",
       "\n",
       "      tBodyAcc-std()-X  tBodyAcc-std()-Y  tBodyAcc-std()-Z  tBodyAcc-mad()-X  \\\n",
       "3098         -0.996166         -0.995119         -0.992088         -0.996834   \n",
       "5253         -0.428689         -0.208797         -0.362497         -0.508433   \n",
       "2594         -0.997516         -0.989017         -0.993706         -0.998158   \n",
       "3200          0.333709          0.084454          0.275450          0.284896   \n",
       "5183         -0.618574         -0.171798         -0.455385         -0.644180   \n",
       "...                ...               ...               ...               ...   \n",
       "35           -0.993856         -0.993179         -0.993470         -0.993878   \n",
       "1390         -0.965706         -0.957235         -0.983897         -0.966092   \n",
       "5143         -0.934471          0.493446         -0.536580         -0.942253   \n",
       "6273         -0.931186         -0.807468         -0.763221         -0.951753   \n",
       "2005         -0.470036         -0.077597         -0.558642         -0.507256   \n",
       "\n",
       "      tBodyAcc-mad()-Y  tBodyAcc-mad()-Z  tBodyAcc-max()-X  ...  \\\n",
       "3098         -0.994871         -0.992227         -0.938534  ...   \n",
       "5253         -0.259373         -0.367289         -0.106581  ...   \n",
       "2594         -0.989110         -0.992372         -0.939371  ...   \n",
       "3200          0.035243          0.240222          0.657705  ...   \n",
       "5183         -0.209997         -0.444016         -0.566440  ...   \n",
       "...                ...               ...               ...  ...   \n",
       "35           -0.992131         -0.992788         -0.941617  ...   \n",
       "1390         -0.952558         -0.981020         -0.911827  ...   \n",
       "5143          0.617615         -0.485989         -0.639321  ...   \n",
       "6273         -0.814512         -0.776642         -0.835407  ...   \n",
       "2005         -0.081598         -0.532698         -0.449694  ...   \n",
       "\n",
       "      fBodyBodyGyroJerkMag-kurtosis()  angle(tBodyAccMean,gravity)  \\\n",
       "3098                        -0.727258                    -0.025156   \n",
       "5253                        -0.824583                    -0.034125   \n",
       "2594                        -0.902563                    -0.018786   \n",
       "3200                        -0.615648                     0.063391   \n",
       "5183                        -0.108343                    -0.134273   \n",
       "...                               ...                          ...   \n",
       "35                          -0.823181                     0.064398   \n",
       "1390                        -0.609891                    -0.198740   \n",
       "5143                        -0.899375                     0.024047   \n",
       "6273                         0.301753                     0.062452   \n",
       "2005                        -0.550687                     0.202120   \n",
       "\n",
       "      angle(tBodyAccJerkMean),gravityMean)  angle(tBodyGyroMean,gravityMean)  \\\n",
       "3098                              0.866087                          0.079809   \n",
       "5253                              0.314929                          0.873633   \n",
       "2594                              0.505867                         -0.028065   \n",
       "3200                             -0.334838                          0.923035   \n",
       "5183                             -0.562825                         -0.021453   \n",
       "...                                    ...                               ...   \n",
       "35                                0.300924                          0.117655   \n",
       "1390                             -0.136987                          0.194095   \n",
       "5143                              0.332918                         -0.146925   \n",
       "6273                             -0.022452                         -0.971079   \n",
       "2005                             -0.557869                          0.282615   \n",
       "\n",
       "      angle(tBodyGyroJerkMean,gravityMean)  angle(X,gravityMean)  \\\n",
       "3098                             -0.251234             -0.665590   \n",
       "5253                              0.193880             -0.719913   \n",
       "2594                             -0.092048             -0.928574   \n",
       "3200                             -0.801307             -0.761963   \n",
       "5183                             -0.269273             -0.694684   \n",
       "...                                    ...                   ...   \n",
       "35                               -0.046455             -0.316732   \n",
       "1390                             -0.470506              0.573042   \n",
       "5143                              0.265982              0.848406   \n",
       "6273                              0.595634             -0.762413   \n",
       "2005                              0.434414             -0.745823   \n",
       "\n",
       "      angle(Y,gravityMean)  angle(Z,gravityMean)  subject  Activity  \n",
       "3098              0.197420             -0.198653       16         1  \n",
       "5253              0.220496             -0.137270       25         5  \n",
       "2594              0.061595             -0.021477       15         1  \n",
       "3200              0.022009              0.171961       16         4  \n",
       "5183              0.159641             -0.192743       25         3  \n",
       "...                    ...                   ...      ...       ...  \n",
       "35               -0.217729             -0.323329        1         1  \n",
       "1390             -0.101475             -0.920923        7         0  \n",
       "5143             -0.384103             -0.581865       25         0  \n",
       "6273              0.257507              0.058393       28         2  \n",
       "2005              0.227785             -0.104625       11         3  \n",
       "\n",
       "[7352 rows x 563 columns]"
      ]
     },
     "execution_count": 9,
     "metadata": {},
     "output_type": "execute_result"
    }
   ],
   "source": [
    "df"
   ]
  },
  {
   "cell_type": "code",
   "execution_count": 12,
   "metadata": {},
   "outputs": [
    {
     "data": {
      "text/html": [
       "<div>\n",
       "<style scoped>\n",
       "    .dataframe tbody tr th:only-of-type {\n",
       "        vertical-align: middle;\n",
       "    }\n",
       "\n",
       "    .dataframe tbody tr th {\n",
       "        vertical-align: top;\n",
       "    }\n",
       "\n",
       "    .dataframe thead th {\n",
       "        text-align: right;\n",
       "    }\n",
       "</style>\n",
       "<table border=\"1\" class=\"dataframe\">\n",
       "  <thead>\n",
       "    <tr style=\"text-align: right;\">\n",
       "      <th></th>\n",
       "      <th>tBodyAcc-mean()-X</th>\n",
       "      <th>tBodyAcc-mean()-Y</th>\n",
       "      <th>tBodyAcc-mean()-Z</th>\n",
       "      <th>tBodyAcc-std()-X</th>\n",
       "      <th>tBodyAcc-std()-Y</th>\n",
       "      <th>tBodyAcc-std()-Z</th>\n",
       "      <th>tBodyAcc-mad()-X</th>\n",
       "      <th>tBodyAcc-mad()-Y</th>\n",
       "      <th>tBodyAcc-mad()-Z</th>\n",
       "      <th>tBodyAcc-max()-X</th>\n",
       "      <th>...</th>\n",
       "      <th>fBodyBodyGyroJerkMag-meanFreq()</th>\n",
       "      <th>fBodyBodyGyroJerkMag-skewness()</th>\n",
       "      <th>fBodyBodyGyroJerkMag-kurtosis()</th>\n",
       "      <th>angle(tBodyAccMean,gravity)</th>\n",
       "      <th>angle(tBodyAccJerkMean),gravityMean)</th>\n",
       "      <th>angle(tBodyGyroMean,gravityMean)</th>\n",
       "      <th>angle(tBodyGyroJerkMean,gravityMean)</th>\n",
       "      <th>angle(X,gravityMean)</th>\n",
       "      <th>angle(Y,gravityMean)</th>\n",
       "      <th>angle(Z,gravityMean)</th>\n",
       "    </tr>\n",
       "  </thead>\n",
       "  <tbody>\n",
       "    <tr>\n",
       "      <th>3098</th>\n",
       "      <td>0.281443</td>\n",
       "      <td>-0.013562</td>\n",
       "      <td>-0.112099</td>\n",
       "      <td>-0.996166</td>\n",
       "      <td>-0.995119</td>\n",
       "      <td>-0.992088</td>\n",
       "      <td>-0.996834</td>\n",
       "      <td>-0.994871</td>\n",
       "      <td>-0.992227</td>\n",
       "      <td>-0.938534</td>\n",
       "      <td>...</td>\n",
       "      <td>0.563451</td>\n",
       "      <td>-0.491249</td>\n",
       "      <td>-0.727258</td>\n",
       "      <td>-0.025156</td>\n",
       "      <td>0.866087</td>\n",
       "      <td>0.079809</td>\n",
       "      <td>-0.251234</td>\n",
       "      <td>-0.665590</td>\n",
       "      <td>0.197420</td>\n",
       "      <td>-0.198653</td>\n",
       "    </tr>\n",
       "    <tr>\n",
       "      <th>5253</th>\n",
       "      <td>0.381809</td>\n",
       "      <td>0.014971</td>\n",
       "      <td>-0.299646</td>\n",
       "      <td>-0.428689</td>\n",
       "      <td>-0.208797</td>\n",
       "      <td>-0.362497</td>\n",
       "      <td>-0.508433</td>\n",
       "      <td>-0.259373</td>\n",
       "      <td>-0.367289</td>\n",
       "      <td>-0.106581</td>\n",
       "      <td>...</td>\n",
       "      <td>-0.336585</td>\n",
       "      <td>-0.458191</td>\n",
       "      <td>-0.824583</td>\n",
       "      <td>-0.034125</td>\n",
       "      <td>0.314929</td>\n",
       "      <td>0.873633</td>\n",
       "      <td>0.193880</td>\n",
       "      <td>-0.719913</td>\n",
       "      <td>0.220496</td>\n",
       "      <td>-0.137270</td>\n",
       "    </tr>\n",
       "    <tr>\n",
       "      <th>2594</th>\n",
       "      <td>0.278755</td>\n",
       "      <td>-0.019206</td>\n",
       "      <td>-0.114072</td>\n",
       "      <td>-0.997516</td>\n",
       "      <td>-0.989017</td>\n",
       "      <td>-0.993706</td>\n",
       "      <td>-0.998158</td>\n",
       "      <td>-0.989110</td>\n",
       "      <td>-0.992372</td>\n",
       "      <td>-0.939371</td>\n",
       "      <td>...</td>\n",
       "      <td>0.422341</td>\n",
       "      <td>-0.681495</td>\n",
       "      <td>-0.902563</td>\n",
       "      <td>-0.018786</td>\n",
       "      <td>0.505867</td>\n",
       "      <td>-0.028065</td>\n",
       "      <td>-0.092048</td>\n",
       "      <td>-0.928574</td>\n",
       "      <td>0.061595</td>\n",
       "      <td>-0.021477</td>\n",
       "    </tr>\n",
       "    <tr>\n",
       "      <th>3200</th>\n",
       "      <td>0.252211</td>\n",
       "      <td>-0.001126</td>\n",
       "      <td>-0.147786</td>\n",
       "      <td>0.333709</td>\n",
       "      <td>0.084454</td>\n",
       "      <td>0.275450</td>\n",
       "      <td>0.284896</td>\n",
       "      <td>0.035243</td>\n",
       "      <td>0.240222</td>\n",
       "      <td>0.657705</td>\n",
       "      <td>...</td>\n",
       "      <td>0.104118</td>\n",
       "      <td>-0.212814</td>\n",
       "      <td>-0.615648</td>\n",
       "      <td>0.063391</td>\n",
       "      <td>-0.334838</td>\n",
       "      <td>0.923035</td>\n",
       "      <td>-0.801307</td>\n",
       "      <td>-0.761963</td>\n",
       "      <td>0.022009</td>\n",
       "      <td>0.171961</td>\n",
       "    </tr>\n",
       "    <tr>\n",
       "      <th>5183</th>\n",
       "      <td>0.282519</td>\n",
       "      <td>-0.018264</td>\n",
       "      <td>-0.114047</td>\n",
       "      <td>-0.618574</td>\n",
       "      <td>-0.171798</td>\n",
       "      <td>-0.455385</td>\n",
       "      <td>-0.644180</td>\n",
       "      <td>-0.209997</td>\n",
       "      <td>-0.444016</td>\n",
       "      <td>-0.566440</td>\n",
       "      <td>...</td>\n",
       "      <td>0.098110</td>\n",
       "      <td>0.178885</td>\n",
       "      <td>-0.108343</td>\n",
       "      <td>-0.134273</td>\n",
       "      <td>-0.562825</td>\n",
       "      <td>-0.021453</td>\n",
       "      <td>-0.269273</td>\n",
       "      <td>-0.694684</td>\n",
       "      <td>0.159641</td>\n",
       "      <td>-0.192743</td>\n",
       "    </tr>\n",
       "    <tr>\n",
       "      <th>...</th>\n",
       "      <td>...</td>\n",
       "      <td>...</td>\n",
       "      <td>...</td>\n",
       "      <td>...</td>\n",
       "      <td>...</td>\n",
       "      <td>...</td>\n",
       "      <td>...</td>\n",
       "      <td>...</td>\n",
       "      <td>...</td>\n",
       "      <td>...</td>\n",
       "      <td>...</td>\n",
       "      <td>...</td>\n",
       "      <td>...</td>\n",
       "      <td>...</td>\n",
       "      <td>...</td>\n",
       "      <td>...</td>\n",
       "      <td>...</td>\n",
       "      <td>...</td>\n",
       "      <td>...</td>\n",
       "      <td>...</td>\n",
       "      <td>...</td>\n",
       "    </tr>\n",
       "    <tr>\n",
       "      <th>35</th>\n",
       "      <td>0.270908</td>\n",
       "      <td>-0.014413</td>\n",
       "      <td>-0.106522</td>\n",
       "      <td>-0.993856</td>\n",
       "      <td>-0.993179</td>\n",
       "      <td>-0.993470</td>\n",
       "      <td>-0.993878</td>\n",
       "      <td>-0.992131</td>\n",
       "      <td>-0.992788</td>\n",
       "      <td>-0.941617</td>\n",
       "      <td>...</td>\n",
       "      <td>0.054595</td>\n",
       "      <td>-0.430744</td>\n",
       "      <td>-0.823181</td>\n",
       "      <td>0.064398</td>\n",
       "      <td>0.300924</td>\n",
       "      <td>0.117655</td>\n",
       "      <td>-0.046455</td>\n",
       "      <td>-0.316732</td>\n",
       "      <td>-0.217729</td>\n",
       "      <td>-0.323329</td>\n",
       "    </tr>\n",
       "    <tr>\n",
       "      <th>1390</th>\n",
       "      <td>0.277978</td>\n",
       "      <td>-0.018281</td>\n",
       "      <td>-0.107062</td>\n",
       "      <td>-0.965706</td>\n",
       "      <td>-0.957235</td>\n",
       "      <td>-0.983897</td>\n",
       "      <td>-0.966092</td>\n",
       "      <td>-0.952558</td>\n",
       "      <td>-0.981020</td>\n",
       "      <td>-0.911827</td>\n",
       "      <td>...</td>\n",
       "      <td>0.121649</td>\n",
       "      <td>-0.188578</td>\n",
       "      <td>-0.609891</td>\n",
       "      <td>-0.198740</td>\n",
       "      <td>-0.136987</td>\n",
       "      <td>0.194095</td>\n",
       "      <td>-0.470506</td>\n",
       "      <td>0.573042</td>\n",
       "      <td>-0.101475</td>\n",
       "      <td>-0.920923</td>\n",
       "    </tr>\n",
       "    <tr>\n",
       "      <th>5143</th>\n",
       "      <td>1.000000</td>\n",
       "      <td>0.535820</td>\n",
       "      <td>-0.757526</td>\n",
       "      <td>-0.934471</td>\n",
       "      <td>0.493446</td>\n",
       "      <td>-0.536580</td>\n",
       "      <td>-0.942253</td>\n",
       "      <td>0.617615</td>\n",
       "      <td>-0.485989</td>\n",
       "      <td>-0.639321</td>\n",
       "      <td>...</td>\n",
       "      <td>0.448676</td>\n",
       "      <td>-0.646045</td>\n",
       "      <td>-0.899375</td>\n",
       "      <td>0.024047</td>\n",
       "      <td>0.332918</td>\n",
       "      <td>-0.146925</td>\n",
       "      <td>0.265982</td>\n",
       "      <td>0.848406</td>\n",
       "      <td>-0.384103</td>\n",
       "      <td>-0.581865</td>\n",
       "    </tr>\n",
       "    <tr>\n",
       "      <th>6273</th>\n",
       "      <td>0.264130</td>\n",
       "      <td>-0.033283</td>\n",
       "      <td>-0.052674</td>\n",
       "      <td>-0.931186</td>\n",
       "      <td>-0.807468</td>\n",
       "      <td>-0.763221</td>\n",
       "      <td>-0.951753</td>\n",
       "      <td>-0.814512</td>\n",
       "      <td>-0.776642</td>\n",
       "      <td>-0.835407</td>\n",
       "      <td>...</td>\n",
       "      <td>-0.339968</td>\n",
       "      <td>0.567797</td>\n",
       "      <td>0.301753</td>\n",
       "      <td>0.062452</td>\n",
       "      <td>-0.022452</td>\n",
       "      <td>-0.971079</td>\n",
       "      <td>0.595634</td>\n",
       "      <td>-0.762413</td>\n",
       "      <td>0.257507</td>\n",
       "      <td>0.058393</td>\n",
       "    </tr>\n",
       "    <tr>\n",
       "      <th>2005</th>\n",
       "      <td>0.273890</td>\n",
       "      <td>-0.013987</td>\n",
       "      <td>-0.130482</td>\n",
       "      <td>-0.470036</td>\n",
       "      <td>-0.077597</td>\n",
       "      <td>-0.558642</td>\n",
       "      <td>-0.507256</td>\n",
       "      <td>-0.081598</td>\n",
       "      <td>-0.532698</td>\n",
       "      <td>-0.449694</td>\n",
       "      <td>...</td>\n",
       "      <td>0.203104</td>\n",
       "      <td>-0.180904</td>\n",
       "      <td>-0.550687</td>\n",
       "      <td>0.202120</td>\n",
       "      <td>-0.557869</td>\n",
       "      <td>0.282615</td>\n",
       "      <td>0.434414</td>\n",
       "      <td>-0.745823</td>\n",
       "      <td>0.227785</td>\n",
       "      <td>-0.104625</td>\n",
       "    </tr>\n",
       "  </tbody>\n",
       "</table>\n",
       "<p>7352 rows × 561 columns</p>\n",
       "</div>"
      ],
      "text/plain": [
       "      tBodyAcc-mean()-X  tBodyAcc-mean()-Y  tBodyAcc-mean()-Z  \\\n",
       "3098           0.281443          -0.013562          -0.112099   \n",
       "5253           0.381809           0.014971          -0.299646   \n",
       "2594           0.278755          -0.019206          -0.114072   \n",
       "3200           0.252211          -0.001126          -0.147786   \n",
       "5183           0.282519          -0.018264          -0.114047   \n",
       "...                 ...                ...                ...   \n",
       "35             0.270908          -0.014413          -0.106522   \n",
       "1390           0.277978          -0.018281          -0.107062   \n",
       "5143           1.000000           0.535820          -0.757526   \n",
       "6273           0.264130          -0.033283          -0.052674   \n",
       "2005           0.273890          -0.013987          -0.130482   \n",
       "\n",
       "      tBodyAcc-std()-X  tBodyAcc-std()-Y  tBodyAcc-std()-Z  tBodyAcc-mad()-X  \\\n",
       "3098         -0.996166         -0.995119         -0.992088         -0.996834   \n",
       "5253         -0.428689         -0.208797         -0.362497         -0.508433   \n",
       "2594         -0.997516         -0.989017         -0.993706         -0.998158   \n",
       "3200          0.333709          0.084454          0.275450          0.284896   \n",
       "5183         -0.618574         -0.171798         -0.455385         -0.644180   \n",
       "...                ...               ...               ...               ...   \n",
       "35           -0.993856         -0.993179         -0.993470         -0.993878   \n",
       "1390         -0.965706         -0.957235         -0.983897         -0.966092   \n",
       "5143         -0.934471          0.493446         -0.536580         -0.942253   \n",
       "6273         -0.931186         -0.807468         -0.763221         -0.951753   \n",
       "2005         -0.470036         -0.077597         -0.558642         -0.507256   \n",
       "\n",
       "      tBodyAcc-mad()-Y  tBodyAcc-mad()-Z  tBodyAcc-max()-X  ...  \\\n",
       "3098         -0.994871         -0.992227         -0.938534  ...   \n",
       "5253         -0.259373         -0.367289         -0.106581  ...   \n",
       "2594         -0.989110         -0.992372         -0.939371  ...   \n",
       "3200          0.035243          0.240222          0.657705  ...   \n",
       "5183         -0.209997         -0.444016         -0.566440  ...   \n",
       "...                ...               ...               ...  ...   \n",
       "35           -0.992131         -0.992788         -0.941617  ...   \n",
       "1390         -0.952558         -0.981020         -0.911827  ...   \n",
       "5143          0.617615         -0.485989         -0.639321  ...   \n",
       "6273         -0.814512         -0.776642         -0.835407  ...   \n",
       "2005         -0.081598         -0.532698         -0.449694  ...   \n",
       "\n",
       "      fBodyBodyGyroJerkMag-meanFreq()  fBodyBodyGyroJerkMag-skewness()  \\\n",
       "3098                         0.563451                        -0.491249   \n",
       "5253                        -0.336585                        -0.458191   \n",
       "2594                         0.422341                        -0.681495   \n",
       "3200                         0.104118                        -0.212814   \n",
       "5183                         0.098110                         0.178885   \n",
       "...                               ...                              ...   \n",
       "35                           0.054595                        -0.430744   \n",
       "1390                         0.121649                        -0.188578   \n",
       "5143                         0.448676                        -0.646045   \n",
       "6273                        -0.339968                         0.567797   \n",
       "2005                         0.203104                        -0.180904   \n",
       "\n",
       "      fBodyBodyGyroJerkMag-kurtosis()  angle(tBodyAccMean,gravity)  \\\n",
       "3098                        -0.727258                    -0.025156   \n",
       "5253                        -0.824583                    -0.034125   \n",
       "2594                        -0.902563                    -0.018786   \n",
       "3200                        -0.615648                     0.063391   \n",
       "5183                        -0.108343                    -0.134273   \n",
       "...                               ...                          ...   \n",
       "35                          -0.823181                     0.064398   \n",
       "1390                        -0.609891                    -0.198740   \n",
       "5143                        -0.899375                     0.024047   \n",
       "6273                         0.301753                     0.062452   \n",
       "2005                        -0.550687                     0.202120   \n",
       "\n",
       "      angle(tBodyAccJerkMean),gravityMean)  angle(tBodyGyroMean,gravityMean)  \\\n",
       "3098                              0.866087                          0.079809   \n",
       "5253                              0.314929                          0.873633   \n",
       "2594                              0.505867                         -0.028065   \n",
       "3200                             -0.334838                          0.923035   \n",
       "5183                             -0.562825                         -0.021453   \n",
       "...                                    ...                               ...   \n",
       "35                                0.300924                          0.117655   \n",
       "1390                             -0.136987                          0.194095   \n",
       "5143                              0.332918                         -0.146925   \n",
       "6273                             -0.022452                         -0.971079   \n",
       "2005                             -0.557869                          0.282615   \n",
       "\n",
       "      angle(tBodyGyroJerkMean,gravityMean)  angle(X,gravityMean)  \\\n",
       "3098                             -0.251234             -0.665590   \n",
       "5253                              0.193880             -0.719913   \n",
       "2594                             -0.092048             -0.928574   \n",
       "3200                             -0.801307             -0.761963   \n",
       "5183                             -0.269273             -0.694684   \n",
       "...                                    ...                   ...   \n",
       "35                               -0.046455             -0.316732   \n",
       "1390                             -0.470506              0.573042   \n",
       "5143                              0.265982              0.848406   \n",
       "6273                              0.595634             -0.762413   \n",
       "2005                              0.434414             -0.745823   \n",
       "\n",
       "      angle(Y,gravityMean)  angle(Z,gravityMean)  \n",
       "3098              0.197420             -0.198653  \n",
       "5253              0.220496             -0.137270  \n",
       "2594              0.061595             -0.021477  \n",
       "3200              0.022009              0.171961  \n",
       "5183              0.159641             -0.192743  \n",
       "...                    ...                   ...  \n",
       "35               -0.217729             -0.323329  \n",
       "1390             -0.101475             -0.920923  \n",
       "5143             -0.384103             -0.581865  \n",
       "6273              0.257507              0.058393  \n",
       "2005              0.227785             -0.104625  \n",
       "\n",
       "[7352 rows x 561 columns]"
      ]
     },
     "execution_count": 12,
     "metadata": {},
     "output_type": "execute_result"
    }
   ],
   "source": [
    "X = df.drop(['subject', 'Activity'], axis=1)\n",
    "X"
   ]
  },
  {
   "cell_type": "code",
   "execution_count": 13,
   "metadata": {},
   "outputs": [
    {
     "data": {
      "text/plain": [
       "3098    1\n",
       "5253    5\n",
       "2594    1\n",
       "3200    4\n",
       "5183    3\n",
       "       ..\n",
       "35      1\n",
       "1390    0\n",
       "5143    0\n",
       "6273    2\n",
       "2005    3\n",
       "Name: Activity, Length: 7352, dtype: int32"
      ]
     },
     "execution_count": 13,
     "metadata": {},
     "output_type": "execute_result"
    }
   ],
   "source": [
    "y = df['Activity']\n",
    "y"
   ]
  },
  {
   "cell_type": "code",
   "execution_count": 14,
   "metadata": {},
   "outputs": [],
   "source": [
    "from sklearn.linear_model import LogisticRegression\n",
    "\n",
    "log_reg = LogisticRegression(solver=\"liblinear\",random_state=42)"
   ]
  },
  {
   "cell_type": "code",
   "execution_count": 15,
   "metadata": {},
   "outputs": [
    {
     "data": {
      "text/plain": [
       "LogisticRegression(random_state=42, solver='liblinear')"
      ]
     },
     "execution_count": 15,
     "metadata": {},
     "output_type": "execute_result"
    }
   ],
   "source": [
    "log_reg.fit(X, y)"
   ]
  },
  {
   "cell_type": "code",
   "execution_count": 16,
   "metadata": {},
   "outputs": [
    {
     "data": {
      "text/plain": [
       "array([[1407,    0,    0,    0,    0,    0],\n",
       "       [   0, 1239,   47,    0,    0,    0],\n",
       "       [   0,   48, 1326,    0,    0,    0],\n",
       "       [   0,    0,    0, 1225,    0,    1],\n",
       "       [   0,    0,    0,    1,  985,    0],\n",
       "       [   0,    0,    0,    4,    0, 1069]], dtype=int64)"
      ]
     },
     "execution_count": 16,
     "metadata": {},
     "output_type": "execute_result"
    }
   ],
   "source": [
    "from sklearn.model_selection import cross_val_predict\n",
    "from sklearn.metrics import confusion_matrix\n",
    "\n",
    "y_pred = cross_val_predict(log_reg, X, y, cv=10)\n",
    "conf_mx = confusion_matrix(y, y_pred)\n",
    "conf_mx"
   ]
  },
  {
   "cell_type": "code",
   "execution_count": 17,
   "metadata": {},
   "outputs": [
    {
     "data": {
      "text/plain": [
       "0.9862616459627331"
      ]
     },
     "execution_count": 17,
     "metadata": {},
     "output_type": "execute_result"
    }
   ],
   "source": [
    "from sklearn.model_selection import cross_val_score\n",
    "\n",
    "log_reg_score = cross_val_score(log_reg, X, y, cv=10, scoring=\"accuracy\")\n",
    "log_reg_score.mean()"
   ]
  },
  {
   "cell_type": "markdown",
   "metadata": {},
   "source": [
    "# SVC"
   ]
  },
  {
   "cell_type": "code",
   "execution_count": 18,
   "metadata": {},
   "outputs": [
    {
     "data": {
      "text/plain": [
       "SVC(kernel='linear', random_state=42)"
      ]
     },
     "execution_count": 18,
     "metadata": {},
     "output_type": "execute_result"
    }
   ],
   "source": [
    "from sklearn.svm import SVC\n",
    "\n",
    "svm_clf = SVC(kernel=\"linear\", random_state=42)\n",
    "svm_clf.fit(X, y)"
   ]
  },
  {
   "cell_type": "code",
   "execution_count": 19,
   "metadata": {},
   "outputs": [
    {
     "data": {
      "text/plain": [
       "0.9873493419106774"
      ]
     },
     "execution_count": 19,
     "metadata": {},
     "output_type": "execute_result"
    }
   ],
   "source": [
    "svm_score = cross_val_score(svm_clf, X, y, cv=10, scoring=\"accuracy\")\n",
    "svm_score.mean()"
   ]
  },
  {
   "cell_type": "code",
   "execution_count": 20,
   "metadata": {},
   "outputs": [
    {
     "data": {
      "text/plain": [
       "array([[1407,    0,    0,    0,    0,    0],\n",
       "       [   0, 1236,   49,    0,    0,    1],\n",
       "       [   0,   42, 1332,    0,    0,    0],\n",
       "       [   0,    0,    0, 1226,    0,    0],\n",
       "       [   0,    0,    0,    0,  986,    0],\n",
       "       [   0,    0,    0,    0,    1, 1072]], dtype=int64)"
      ]
     },
     "execution_count": 20,
     "metadata": {},
     "output_type": "execute_result"
    }
   ],
   "source": [
    "y_pred = cross_val_predict(svm_clf, X, y, cv=10)\n",
    "conf_mx = confusion_matrix(y, y_pred)\n",
    "conf_mx"
   ]
  },
  {
   "cell_type": "code",
   "execution_count": 28,
   "metadata": {},
   "outputs": [],
   "source": [
    "from sklearn.model_selection import GridSearchCV\n",
    "\n",
    "param_grid = [{'gamma': [0.001, 0.01, 0.1, 1, 10, 100, 100], 'C': [0.1, 1, 10, 100]}]"
   ]
  },
  {
   "cell_type": "code",
   "execution_count": 29,
   "metadata": {},
   "outputs": [],
   "source": [
    "svm_clf = SVC(kernel=\"linear\", random_state=42)\n",
    "grid_search = GridSearchCV(svm_clf, param_grid, cv=10, scoring=\"accuracy\", \n",
    "                           return_train_score=True)"
   ]
  },
  {
   "cell_type": "code",
   "execution_count": 30,
   "metadata": {},
   "outputs": [
    {
     "data": {
      "text/plain": [
       "GridSearchCV(cv=10, estimator=SVC(kernel='linear', random_state=42),\n",
       "             param_grid=[{'C': [0.1, 1, 10, 100],\n",
       "                          'gamma': [0.001, 0.01, 0.1, 1, 10, 100, 1000]}],\n",
       "             return_train_score=True, scoring='accuracy')"
      ]
     },
     "execution_count": 30,
     "metadata": {},
     "output_type": "execute_result"
    }
   ],
   "source": [
    "grid_search.fit(X, y)"
   ]
  },
  {
   "cell_type": "code",
   "execution_count": 31,
   "metadata": {},
   "outputs": [
    {
     "data": {
      "text/plain": [
       "{'C': 1, 'gamma': 0.001}"
      ]
     },
     "execution_count": 31,
     "metadata": {},
     "output_type": "execute_result"
    }
   ],
   "source": [
    "grid_search.best_params_"
   ]
  },
  {
   "cell_type": "code",
   "execution_count": 32,
   "metadata": {},
   "outputs": [
    {
     "data": {
      "text/plain": [
       "SVC(C=1, gamma=0.001, kernel='linear', random_state=42)"
      ]
     },
     "execution_count": 32,
     "metadata": {},
     "output_type": "execute_result"
    }
   ],
   "source": [
    "grid_search.best_estimator_"
   ]
  },
  {
   "cell_type": "code",
   "execution_count": 33,
   "metadata": {},
   "outputs": [
    {
     "name": "stdout",
     "output_type": "stream",
     "text": [
      "0.9847654170363797 {'C': 0.1, 'gamma': 0.001}\n",
      "0.9847654170363797 {'C': 0.1, 'gamma': 0.01}\n",
      "0.9847654170363797 {'C': 0.1, 'gamma': 0.1}\n",
      "0.9847654170363797 {'C': 0.1, 'gamma': 1}\n",
      "0.9847654170363797 {'C': 0.1, 'gamma': 10}\n",
      "0.9847654170363797 {'C': 0.1, 'gamma': 100}\n",
      "0.9847654170363797 {'C': 0.1, 'gamma': 1000}\n",
      "0.9873493419106774 {'C': 1, 'gamma': 0.001}\n",
      "0.9873493419106774 {'C': 1, 'gamma': 0.01}\n",
      "0.9873493419106774 {'C': 1, 'gamma': 0.1}\n",
      "0.9873493419106774 {'C': 1, 'gamma': 1}\n",
      "0.9873493419106774 {'C': 1, 'gamma': 10}\n",
      "0.9873493419106774 {'C': 1, 'gamma': 100}\n",
      "0.9873493419106774 {'C': 1, 'gamma': 1000}\n",
      "0.9847652321798284 {'C': 10, 'gamma': 0.001}\n",
      "0.9847652321798284 {'C': 10, 'gamma': 0.01}\n",
      "0.9847652321798284 {'C': 10, 'gamma': 0.1}\n",
      "0.9847652321798284 {'C': 10, 'gamma': 1}\n",
      "0.9847652321798284 {'C': 10, 'gamma': 10}\n",
      "0.9847652321798284 {'C': 10, 'gamma': 100}\n",
      "0.9847652321798284 {'C': 10, 'gamma': 1000}\n",
      "0.9824526767228632 {'C': 100, 'gamma': 0.001}\n",
      "0.9824526767228632 {'C': 100, 'gamma': 0.01}\n",
      "0.9824526767228632 {'C': 100, 'gamma': 0.1}\n",
      "0.9824526767228632 {'C': 100, 'gamma': 1}\n",
      "0.9824526767228632 {'C': 100, 'gamma': 10}\n",
      "0.9824526767228632 {'C': 100, 'gamma': 100}\n",
      "0.9824526767228632 {'C': 100, 'gamma': 1000}\n"
     ]
    }
   ],
   "source": [
    "cvres = grid_search.cv_results_\n",
    "for mean_score, params in zip(cvres[\"mean_test_score\"], cvres[\"params\"]):\n",
    "    print(mean_score, params)"
   ]
  },
  {
   "cell_type": "markdown",
   "metadata": {},
   "source": [
    "-> C: 1, gamma: 100일 때 최적!"
   ]
  },
  {
   "cell_type": "code",
   "execution_count": null,
   "metadata": {},
   "outputs": [],
   "source": []
  },
  {
   "cell_type": "markdown",
   "metadata": {},
   "source": [
    "# C=1, gamma=100 적용"
   ]
  },
  {
   "cell_type": "code",
   "execution_count": 34,
   "metadata": {},
   "outputs": [
    {
     "data": {
      "text/plain": [
       "SVC(C=1, gamma=100, kernel='linear', random_state=42)"
      ]
     },
     "execution_count": 34,
     "metadata": {},
     "output_type": "execute_result"
    }
   ],
   "source": [
    "from sklearn.svm import SVC\n",
    "\n",
    "svm_clf = SVC(kernel=\"linear\", C=1, gamma=100, random_state=42)\n",
    "svm_clf.fit(X, y)"
   ]
  },
  {
   "cell_type": "code",
   "execution_count": 35,
   "metadata": {},
   "outputs": [
    {
     "data": {
      "text/plain": [
       "0.9873493419106774"
      ]
     },
     "execution_count": 35,
     "metadata": {},
     "output_type": "execute_result"
    }
   ],
   "source": [
    "svm_score = cross_val_score(svm_clf, X, y, cv=10, scoring=\"accuracy\")\n",
    "svm_score.mean()"
   ]
  },
  {
   "cell_type": "code",
   "execution_count": 36,
   "metadata": {},
   "outputs": [
    {
     "data": {
      "text/plain": [
       "array([[1407,    0,    0,    0,    0,    0],\n",
       "       [   0, 1236,   49,    0,    0,    1],\n",
       "       [   0,   42, 1332,    0,    0,    0],\n",
       "       [   0,    0,    0, 1226,    0,    0],\n",
       "       [   0,    0,    0,    0,  986,    0],\n",
       "       [   0,    0,    0,    0,    1, 1072]], dtype=int64)"
      ]
     },
     "execution_count": 36,
     "metadata": {},
     "output_type": "execute_result"
    }
   ],
   "source": [
    "y_pred = cross_val_predict(svm_clf, X, y, cv=10)\n",
    "conf_mx = confusion_matrix(y, y_pred)\n",
    "conf_mx"
   ]
  },
  {
   "cell_type": "markdown",
   "metadata": {},
   "source": [
    "# 로지스틱 회귀"
   ]
  },
  {
   "cell_type": "code",
   "execution_count": 37,
   "metadata": {},
   "outputs": [],
   "source": [
    "from sklearn.linear_model import LogisticRegression\n",
    "\n",
    "log_reg = LogisticRegression(solver=\"liblinear\",random_state=42) "
   ]
  },
  {
   "cell_type": "code",
   "execution_count": 38,
   "metadata": {},
   "outputs": [
    {
     "data": {
      "text/plain": [
       "LogisticRegression(random_state=42, solver='liblinear')"
      ]
     },
     "execution_count": 38,
     "metadata": {},
     "output_type": "execute_result"
    }
   ],
   "source": [
    "log_reg.fit(X, y)"
   ]
  },
  {
   "cell_type": "code",
   "execution_count": 39,
   "metadata": {},
   "outputs": [
    {
     "data": {
      "text/plain": [
       "array([[1407,    0,    0,    0,    0,    0],\n",
       "       [   0, 1239,   47,    0,    0,    0],\n",
       "       [   0,   48, 1326,    0,    0,    0],\n",
       "       [   0,    0,    0, 1225,    0,    1],\n",
       "       [   0,    0,    0,    1,  985,    0],\n",
       "       [   0,    0,    0,    4,    0, 1069]], dtype=int64)"
      ]
     },
     "execution_count": 39,
     "metadata": {},
     "output_type": "execute_result"
    }
   ],
   "source": [
    "y_pred = cross_val_predict(log_reg, X, y, cv=10)\n",
    "conf_mx = confusion_matrix(y, y_pred)\n",
    "conf_mx"
   ]
  },
  {
   "cell_type": "code",
   "execution_count": 40,
   "metadata": {},
   "outputs": [
    {
     "data": {
      "text/plain": [
       "0.9862616459627331"
      ]
     },
     "execution_count": 40,
     "metadata": {},
     "output_type": "execute_result"
    }
   ],
   "source": [
    "log_reg_score = cross_val_score(log_reg, X, y, cv=10, scoring=\"accuracy\")\n",
    "log_reg_score.mean()"
   ]
  },
  {
   "cell_type": "code",
   "execution_count": 45,
   "metadata": {},
   "outputs": [],
   "source": [
    "best_score = 0\n",
    "for r in ['l1', 'l2']:\n",
    "    for C in [0.001, 0.01, 0.1, 1, 10, 100]:\n",
    "        lm = LogisticRegression(solver=\"liblinear\", penalty = r, C=C, random_state=42)\n",
    "        scores = cross_val_score(lm, X, y, cv=10)\n",
    "        score = np.mean(scores)\n",
    "        if score > best_score:\n",
    "            best_score = score\n",
    "            best_parameters = {'C': C, 'penalty': r}"
   ]
  },
  {
   "cell_type": "code",
   "execution_count": 46,
   "metadata": {},
   "outputs": [
    {
     "data": {
      "text/plain": [
       "{'C': 1, 'penalty': 'l2'}"
      ]
     },
     "execution_count": 46,
     "metadata": {},
     "output_type": "execute_result"
    }
   ],
   "source": [
    "best_parameters"
   ]
  },
  {
   "cell_type": "code",
   "execution_count": 49,
   "metadata": {},
   "outputs": [],
   "source": [
    "log_reg = LogisticRegression(solver=\"liblinear\", C=1, penalty='l2', random_state=42) "
   ]
  },
  {
   "cell_type": "code",
   "execution_count": 50,
   "metadata": {},
   "outputs": [
    {
     "data": {
      "text/plain": [
       "LogisticRegression(C=1, random_state=42, solver='liblinear')"
      ]
     },
     "execution_count": 50,
     "metadata": {},
     "output_type": "execute_result"
    }
   ],
   "source": [
    "log_reg.fit(X, y)"
   ]
  },
  {
   "cell_type": "code",
   "execution_count": 51,
   "metadata": {},
   "outputs": [
    {
     "data": {
      "text/plain": [
       "array([[1407,    0,    0,    0,    0,    0],\n",
       "       [   0, 1239,   47,    0,    0,    0],\n",
       "       [   0,   48, 1326,    0,    0,    0],\n",
       "       [   0,    0,    0, 1225,    0,    1],\n",
       "       [   0,    0,    0,    1,  985,    0],\n",
       "       [   0,    0,    0,    4,    0, 1069]], dtype=int64)"
      ]
     },
     "execution_count": 51,
     "metadata": {},
     "output_type": "execute_result"
    }
   ],
   "source": [
    "y_pred = cross_val_predict(log_reg, X, y, cv=10)\n",
    "conf_mx = confusion_matrix(y, y_pred)\n",
    "conf_mx"
   ]
  },
  {
   "cell_type": "code",
   "execution_count": 52,
   "metadata": {},
   "outputs": [
    {
     "data": {
      "text/plain": [
       "0.9862616459627331"
      ]
     },
     "execution_count": 52,
     "metadata": {},
     "output_type": "execute_result"
    }
   ],
   "source": [
    "log_reg_score = cross_val_score(log_reg, X, y, cv=10, scoring=\"accuracy\")\n",
    "log_reg_score.mean()"
   ]
  },
  {
   "cell_type": "code",
   "execution_count": null,
   "metadata": {},
   "outputs": [],
   "source": []
  },
  {
   "cell_type": "markdown",
   "metadata": {},
   "source": [
    "# voting classifier"
   ]
  },
  {
   "cell_type": "code",
   "execution_count": 53,
   "metadata": {},
   "outputs": [],
   "source": [
    "from sklearn.ensemble import RandomForestClassifier\n",
    "from sklearn.ensemble import VotingClassifier\n",
    "from sklearn.linear_model import LogisticRegression\n",
    "from sklearn.svm import SVC"
   ]
  },
  {
   "cell_type": "code",
   "execution_count": 55,
   "metadata": {},
   "outputs": [],
   "source": [
    "log_clf = LogisticRegression(solver=\"liblinear\", random_state=42)\n",
    "rnd_clf = RandomForestClassifier(n_estimators=100, random_state=42)\n",
    "svm_clf = SVC(kernel=\"linear\", probability=True, random_state=42)"
   ]
  },
  {
   "cell_type": "code",
   "execution_count": 56,
   "metadata": {},
   "outputs": [
    {
     "data": {
      "text/plain": [
       "VotingClassifier(estimators=[('lr',\n",
       "                              LogisticRegression(random_state=42,\n",
       "                                                 solver='liblinear')),\n",
       "                             ('rf', RandomForestClassifier(random_state=42)),\n",
       "                             ('svc',\n",
       "                              SVC(kernel='linear', probability=True,\n",
       "                                  random_state=42))],\n",
       "                 voting='soft')"
      ]
     },
     "execution_count": 56,
     "metadata": {},
     "output_type": "execute_result"
    }
   ],
   "source": [
    "voting_clf = VotingClassifier(\n",
    "    estimators=[('lr', log_clf), ('rf', rnd_clf), ('svc', svm_clf)],\n",
    "    voting=\"soft\")\n",
    "voting_clf.fit(X, y)"
   ]
  },
  {
   "cell_type": "code",
   "execution_count": 57,
   "metadata": {},
   "outputs": [],
   "source": [
    "log_score = cross_val_score(log_clf, X, y, cv=10, scoring=\"accuracy\")\n",
    "rnd_score = cross_val_score(rnd_clf, X, y, cv=10, scoring=\"accuracy\")\n",
    "svm_score = cross_val_score(svm_clf, X, y, cv=10, scoring=\"accuracy\")\n",
    "voting_score = cross_val_score(voting_clf, X, y, cv=10, scoring=\"accuracy\")"
   ]
  },
  {
   "cell_type": "code",
   "execution_count": 60,
   "metadata": {},
   "outputs": [
    {
     "data": {
      "text/plain": [
       "0.9862616459627331"
      ]
     },
     "execution_count": 60,
     "metadata": {},
     "output_type": "execute_result"
    }
   ],
   "source": [
    "log_score.mean()"
   ]
  },
  {
   "cell_type": "code",
   "execution_count": 61,
   "metadata": {},
   "outputs": [
    {
     "data": {
      "text/plain": [
       "0.9815014049097901"
      ]
     },
     "execution_count": 61,
     "metadata": {},
     "output_type": "execute_result"
    }
   ],
   "source": [
    "rnd_score.mean()"
   ]
  },
  {
   "cell_type": "code",
   "execution_count": 62,
   "metadata": {},
   "outputs": [
    {
     "data": {
      "text/plain": [
       "0.9873493419106774"
      ]
     },
     "execution_count": 62,
     "metadata": {},
     "output_type": "execute_result"
    }
   ],
   "source": [
    "svm_score.mean()"
   ]
  },
  {
   "cell_type": "code",
   "execution_count": 63,
   "metadata": {},
   "outputs": [
    {
     "data": {
      "text/plain": [
       "0.9885736468500443"
      ]
     },
     "execution_count": 63,
     "metadata": {},
     "output_type": "execute_result"
    }
   ],
   "source": [
    "voting_score.mean()"
   ]
  },
  {
   "cell_type": "code",
   "execution_count": 64,
   "metadata": {},
   "outputs": [],
   "source": [
    "from sklearn.ensemble import ExtraTreesClassifier"
   ]
  },
  {
   "cell_type": "code",
   "execution_count": 65,
   "metadata": {},
   "outputs": [],
   "source": [
    "extra_clf = ExtraTreesClassifier(random_state=42)"
   ]
  },
  {
   "cell_type": "code",
   "execution_count": 66,
   "metadata": {},
   "outputs": [
    {
     "data": {
      "text/plain": [
       "ExtraTreesClassifier(random_state=42)"
      ]
     },
     "execution_count": 66,
     "metadata": {},
     "output_type": "execute_result"
    }
   ],
   "source": [
    "extra_clf.fit(X, y)"
   ]
  },
  {
   "cell_type": "code",
   "execution_count": 67,
   "metadata": {},
   "outputs": [],
   "source": [
    "extra_score = cross_val_score(extra_clf, X, y, cv=10, scoring=\"accuracy\")"
   ]
  },
  {
   "cell_type": "code",
   "execution_count": 68,
   "metadata": {},
   "outputs": [
    {
     "data": {
      "text/plain": [
       "0.9868067879325642"
      ]
     },
     "execution_count": 68,
     "metadata": {},
     "output_type": "execute_result"
    }
   ],
   "source": [
    "extra_score.mean()"
   ]
  },
  {
   "cell_type": "code",
   "execution_count": 69,
   "metadata": {},
   "outputs": [],
   "source": [
    "extra_clf = ExtraTreesClassifier(n_estimators=100, random_state=42)"
   ]
  },
  {
   "cell_type": "code",
   "execution_count": 70,
   "metadata": {},
   "outputs": [
    {
     "data": {
      "text/plain": [
       "ExtraTreesClassifier(random_state=42)"
      ]
     },
     "execution_count": 70,
     "metadata": {},
     "output_type": "execute_result"
    }
   ],
   "source": [
    "extra_clf.fit(X, y)"
   ]
  },
  {
   "cell_type": "code",
   "execution_count": 71,
   "metadata": {},
   "outputs": [],
   "source": [
    "extra_score = cross_val_score(extra_clf, X, y, cv=10, scoring=\"accuracy\")"
   ]
  },
  {
   "cell_type": "code",
   "execution_count": 72,
   "metadata": {},
   "outputs": [
    {
     "data": {
      "text/plain": [
       "0.9868067879325642"
      ]
     },
     "execution_count": 72,
     "metadata": {},
     "output_type": "execute_result"
    }
   ],
   "source": [
    "extra_score.mean()"
   ]
  },
  {
   "cell_type": "code",
   "execution_count": 75,
   "metadata": {},
   "outputs": [
    {
     "data": {
      "text/plain": [
       "AdaBoostClassifier(base_estimator=DecisionTreeClassifier(random_state=42))"
      ]
     },
     "execution_count": 75,
     "metadata": {},
     "output_type": "execute_result"
    }
   ],
   "source": [
    "from sklearn.ensemble import AdaBoostClassifier\n",
    "from sklearn.tree import DecisionTreeClassifier\n",
    "ada_clf = AdaBoostClassifier(\n",
    "    DecisionTreeClassifier(random_state=42))\n",
    "ada_clf.fit(X,y)"
   ]
  },
  {
   "cell_type": "code",
   "execution_count": 76,
   "metadata": {},
   "outputs": [],
   "source": [
    "ada_clf_score = cross_val_score(ada_clf, X, y, cv=10, scoring=\"accuracy\")"
   ]
  },
  {
   "cell_type": "code",
   "execution_count": 77,
   "metadata": {},
   "outputs": [
    {
     "data": {
      "text/plain": [
       "0.9385194838805088"
      ]
     },
     "execution_count": 77,
     "metadata": {},
     "output_type": "execute_result"
    }
   ],
   "source": [
    "ada_clf_score.mean()"
   ]
  },
  {
   "cell_type": "code",
   "execution_count": 78,
   "metadata": {},
   "outputs": [
    {
     "data": {
      "text/plain": [
       "AdaBoostClassifier(base_estimator=RandomForestClassifier(random_state=42))"
      ]
     },
     "execution_count": 78,
     "metadata": {},
     "output_type": "execute_result"
    }
   ],
   "source": [
    "ada_clf = AdaBoostClassifier(\n",
    "    RandomForestClassifier(random_state=42))\n",
    "ada_clf.fit(X,y)"
   ]
  },
  {
   "cell_type": "code",
   "execution_count": 79,
   "metadata": {},
   "outputs": [],
   "source": [
    "ada_clf_score = cross_val_score(ada_clf, X, y, cv=10, scoring=\"accuracy\")"
   ]
  },
  {
   "cell_type": "code",
   "execution_count": 80,
   "metadata": {},
   "outputs": [
    {
     "data": {
      "text/plain": [
       "0.9815023291925465"
      ]
     },
     "execution_count": 80,
     "metadata": {},
     "output_type": "execute_result"
    }
   ],
   "source": [
    "ada_clf_score.mean()"
   ]
  },
  {
   "cell_type": "code",
   "execution_count": 82,
   "metadata": {},
   "outputs": [],
   "source": [
    "from sklearn.ensemble import GradientBoostingClassifier"
   ]
  },
  {
   "cell_type": "code",
   "execution_count": 83,
   "metadata": {},
   "outputs": [
    {
     "data": {
      "text/plain": [
       "GradientBoostingClassifier(random_state=42)"
      ]
     },
     "execution_count": 83,
     "metadata": {},
     "output_type": "execute_result"
    }
   ],
   "source": [
    "gbrt_clf = GradientBoostingClassifier(random_state=42)\n",
    "gbrt_clf.fit(X, y)"
   ]
  },
  {
   "cell_type": "code",
   "execution_count": 84,
   "metadata": {},
   "outputs": [],
   "source": [
    "gbrt_clf_score = cross_val_score(ada_clf, X, y, cv=10, scoring=\"accuracy\")"
   ]
  },
  {
   "cell_type": "code",
   "execution_count": 85,
   "metadata": {},
   "outputs": [
    {
     "data": {
      "text/plain": [
       "0.980821502514049"
      ]
     },
     "execution_count": 85,
     "metadata": {},
     "output_type": "execute_result"
    }
   ],
   "source": [
    "gbrt_clf_score.mean()"
   ]
  },
  {
   "cell_type": "code",
   "execution_count": 87,
   "metadata": {},
   "outputs": [],
   "source": [
    "from sklearn.ensemble import BaggingClassifier"
   ]
  },
  {
   "cell_type": "code",
   "execution_count": 88,
   "metadata": {},
   "outputs": [],
   "source": [
    "bag_clf = BaggingClassifier(\n",
    "    RandomForestClassifier(random_state=42), bootstrap=False, random_state=42)"
   ]
  },
  {
   "cell_type": "code",
   "execution_count": 89,
   "metadata": {},
   "outputs": [
    {
     "data": {
      "text/plain": [
       "BaggingClassifier(base_estimator=RandomForestClassifier(random_state=42),\n",
       "                  bootstrap=False, random_state=42)"
      ]
     },
     "execution_count": 89,
     "metadata": {},
     "output_type": "execute_result"
    }
   ],
   "source": [
    "bag_clf.fit(X, y)"
   ]
  },
  {
   "cell_type": "code",
   "execution_count": 90,
   "metadata": {},
   "outputs": [
    {
     "data": {
      "text/plain": [
       "0.9831340579710146"
      ]
     },
     "execution_count": 90,
     "metadata": {},
     "output_type": "execute_result"
    }
   ],
   "source": [
    "bag_clf_score = cross_val_score(bag_clf, X, y, cv=10, scoring=\"accuracy\")\n",
    "bag_clf_score.mean()"
   ]
  },
  {
   "cell_type": "code",
   "execution_count": 92,
   "metadata": {},
   "outputs": [
    {
     "data": {
      "text/plain": [
       "VotingClassifier(estimators=[('lr',\n",
       "                              LogisticRegression(random_state=42,\n",
       "                                                 solver='liblinear')),\n",
       "                             ('rf', RandomForestClassifier(random_state=42)),\n",
       "                             ('svc',\n",
       "                              SVC(kernel='linear', probability=True,\n",
       "                                  random_state=42)),\n",
       "                             ('ada',\n",
       "                              AdaBoostClassifier(base_estimator=RandomForestClassifier(random_state=42))),\n",
       "                             ('gbrt',\n",
       "                              GradientBoostingClassifier(random_state=42)),\n",
       "                             ('bag',\n",
       "                              BaggingClassifier(base_estimator=RandomForestClassifier(random_state=42),\n",
       "                                                bootstrap=False,\n",
       "                                                random_state=42))],\n",
       "                 voting='soft')"
      ]
     },
     "execution_count": 92,
     "metadata": {},
     "output_type": "execute_result"
    }
   ],
   "source": [
    "voting_clf = VotingClassifier(\n",
    "    estimators=[('lr', log_clf), ('rf', rnd_clf), ('svc', svm_clf), ('ada', ada_clf), \n",
    "                ('gbrt',gbrt_clf), ('bag', bag_clf)],\n",
    "    voting=\"soft\")\n",
    "voting_clf.fit(X, y)"
   ]
  },
  {
   "cell_type": "code",
   "execution_count": 93,
   "metadata": {},
   "outputs": [
    {
     "data": {
      "text/plain": [
       "0.9903423543330374"
      ]
     },
     "execution_count": 93,
     "metadata": {},
     "output_type": "execute_result"
    }
   ],
   "source": [
    "voting_score = cross_val_score(voting_clf, X, y, cv=10, scoring=\"accuracy\")\n",
    "voting_score.mean()"
   ]
  },
  {
   "cell_type": "code",
   "execution_count": null,
   "metadata": {},
   "outputs": [],
   "source": [
    " "
   ]
  },
  {
   "cell_type": "code",
   "execution_count": null,
   "metadata": {},
   "outputs": [],
   "source": []
  }
 ],
 "metadata": {
  "kernelspec": {
   "display_name": "Python 3",
   "language": "python",
   "name": "python3"
  },
  "language_info": {
   "codemirror_mode": {
    "name": "ipython",
    "version": 3
   },
   "file_extension": ".py",
   "mimetype": "text/x-python",
   "name": "python",
   "nbconvert_exporter": "python",
   "pygments_lexer": "ipython3",
   "version": "3.8.3"
  }
 },
 "nbformat": 4,
 "nbformat_minor": 4
}
